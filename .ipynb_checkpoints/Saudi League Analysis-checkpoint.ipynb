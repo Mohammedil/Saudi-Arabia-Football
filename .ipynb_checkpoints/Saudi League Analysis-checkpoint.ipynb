{
 "cells": [
  {
   "cell_type": "markdown",
   "metadata": {},
   "source": [
    "# ***Saudi League Analysis***"
   ]
  },
  {
   "cell_type": "markdown",
   "metadata": {},
   "source": [
    "# Content:\n",
    "\n",
    "## ***Cleaning***\n",
    "## 1.0- Acquiring Data\n",
    "## 1.1- Load Data\n",
    "## 1.2- Clean Data\n",
    "***Squads***\n",
    "- league tables\n",
    "- Home & Away\n",
    "- squad standard stats\n",
    "- squad goalkeeping\n",
    "- squad shooting\n",
    "- squad playing time\n",
    "- squad miscellaneous stats\n",
    "\n",
    "***PLayers***\n",
    "- players standard stats\n",
    "- players shooting\n",
    "- Players playing time\n",
    "- players miscellaneous stats\n",
    "- player goalkeeping\n",
    "## 1.3- Save Data\n",
    "\n",
    "\n",
    "\n",
    "\n",
    "## ***Exploratory Analysis***\n",
    "## 2.1- Load Data\n",
    "## 2.2- Exploratory Analysis\n",
    "***General Exploration***\n",
    "\n",
    "    what is happening?\n",
    "\n",
    "(*Total number of questions is 18*)\n",
    "- Teams points for the period 2014-2021\n",
    "- Remaining teams in the league for the period 2014-2019 2014-2021\n",
    "- Average teams points for the period 2014-2021\n",
    "\n",
    "- teams Attendance for the period 2014-2021\n",
    "- Average teams Atteendance for the period 2014-2021\n",
    "- Highest attendance rate for the period 2014-2021\n",
    "- teams Attendance for the period 2014-2021\n",
    "\n",
    "- League winner stats per year\n",
    "- Average teams Atteendance for the period 2014-2021\n",
    "- Highest attendance rate for the period 2014-2021\n",
    "- League winner stats per year\n",
    "## 2.3- Save Data\n",
    "\n",
    "\n",
    "\n",
    "\n",
    "## ***Diagnostic analysis***\n",
    "## 3.1- Load Data \n",
    "## 3.2- Diagnostic analysis\n",
    "\n",
    "    why is it happening? \n",
    "\n",
    "\n",
    "***The Pythagorean Expectation***\n",
    "\n",
    "***Best season***\n",
    "\n",
    "***Top Teams***\n",
    "\n",
    "\n",
    "==================================="
   ]
  },
  {
   "cell_type": "markdown",
   "metadata": {},
   "source": [
    "# ***Cleaning***"
   ]
  },
  {
   "cell_type": "code",
   "execution_count": null,
   "metadata": {},
   "outputs": [],
   "source": [
    "import pandas as pd\n",
    "import numpy as np \n",
    "\n",
    "import seaborn as sns\n",
    "import matplotlib.pyplot as plt\n",
    "import plotly.express as px\n",
    "import plotly.graph_objs as go\n",
    "%matplotlib inline\n",
    "\n",
    "import re \n",
    "import warnings\n",
    "warnings.filterwarnings('ignore')\n",
    "\n",
    "pd.set_option('display.max_rows', None)\n",
    "pd.set_option('display.max_columns', None)"
   ]
  },
  {
   "cell_type": "markdown",
   "metadata": {},
   "source": [
    "## ***Squads***"
   ]
  },
  {
   "cell_type": "markdown",
   "metadata": {},
   "source": [
    "___\n",
    "### 1.0- ***Acquiring Data***\n",
    "___"
   ]
  },
  {
   "cell_type": "markdown",
   "metadata": {},
   "source": [
    "#### This data was collected from FBREF website for the season 2021.\n",
    "[FBREF](https://fbref.com/en/comps/70/Saudi-Professional-League-Stats)"
   ]
  },
  {
   "cell_type": "markdown",
   "metadata": {},
   "source": [
    "___\n",
    "### 1.1- ***Load Data***\n",
    "___"
   ]
  },
  {
   "cell_type": "code",
   "execution_count": null,
   "metadata": {},
   "outputs": [],
   "source": [
    "lt = pd.read_csv('League Tables.txt')\n",
    "ha = pd.read_csv('H & A.txt')\n",
    "st = pd.read_csv('Squad Standard Stats.txt')\n",
    "gk = pd.read_csv('Squad Goalkeeping.txt')\n",
    "sh = pd.read_csv('Squad Shooting.txt')\n",
    "pt = pd.read_csv('Squad Playing Time.txt')\n",
    "ms = pd.read_csv('Squad Miscellaneous Stats.txt')"
   ]
  },
  {
   "cell_type": "markdown",
   "metadata": {},
   "source": [
    "___\n",
    "### 1.2- ***Clean Data***\n",
    "___"
   ]
  },
  {
   "cell_type": "markdown",
   "metadata": {},
   "source": [
    "### ***cleaning tables***"
   ]
  },
  {
   "cell_type": "markdown",
   "metadata": {},
   "source": [
    "#### ***I) leauge table***"
   ]
  },
  {
   "cell_type": "code",
   "execution_count": null,
   "metadata": {},
   "outputs": [],
   "source": [
    "lt.sample(5)\n"
   ]
  },
  {
   "cell_type": "code",
   "execution_count": null,
   "metadata": {},
   "outputs": [],
   "source": [
    "lt.info()"
   ]
  },
  {
   "cell_type": "markdown",
   "metadata": {},
   "source": [
    "***Attendance***"
   ]
  },
  {
   "cell_type": "code",
   "execution_count": null,
   "metadata": {},
   "outputs": [],
   "source": [
    "# Convert Attendance data type to integer\n",
    "lt['Attendance'] = lt['Attendance'].apply(lambda x: int(x.replace(',','')))"
   ]
  },
  {
   "cell_type": "markdown",
   "metadata": {},
   "source": [
    "***Top Team Scorer***"
   ]
  },
  {
   "cell_type": "code",
   "execution_count": null,
   "metadata": {},
   "outputs": [],
   "source": [
    "# Remove the dash '-' form family names\n",
    "lt['Top Team Scorer'] = lt['Top Team Scorer'].apply(lambda x: x.replace('Al-','Al '))\n",
    "# Split top scorers and their scores\n",
    "lt['Top Team Scorer'] = lt['Top Team Scorer'].apply(lambda x: re.split(r'[-,]',x))\n",
    "# Remove whitespaces\n",
    "lt['Top Team Scorer'] = lt['Top Team Scorer'].apply(lambda x: [w.strip() for w in x])"
   ]
  },
  {
   "cell_type": "code",
   "execution_count": null,
   "metadata": {},
   "outputs": [],
   "source": [
    "# Create new columns for the number of goals\n",
    "lt['Scorer Goals'] = lt['Top Team Scorer'].apply(lambda x: x[-1])\n",
    "# Delate the number of goals from the old columns\n",
    "lt['Top Team Scorer'] = lt['Top Team Scorer'].apply(lambda x: x[0])"
   ]
  },
  {
   "cell_type": "code",
   "execution_count": null,
   "metadata": {},
   "outputs": [],
   "source": [
    "# Convert Attendance data type to integer\n",
    "lt['Scorer Goals'] = lt['Scorer Goals'].apply(lambda x: int(x))"
   ]
  },
  {
   "cell_type": "markdown",
   "metadata": {},
   "source": [
    "***Pts/Mp***"
   ]
  },
  {
   "cell_type": "code",
   "execution_count": null,
   "metadata": {},
   "outputs": [],
   "source": [
    "lt['Pts/Mp'] = pd.Series(lt['Pts'] / lt['MP']).round(2)"
   ]
  },
  {
   "cell_type": "markdown",
   "metadata": {},
   "source": [
    "***reshape the taple***"
   ]
  },
  {
   "cell_type": "code",
   "execution_count": null,
   "metadata": {},
   "outputs": [],
   "source": [
    "lt = lt[['year','Rk','Squad','MP','W','D','L','GF','GA','GDiff','Pts','Pts/Mp','Attendance','Top Team Scorer','Scorer Goals','Goalkeeper']]\n",
    "lt.head()"
   ]
  },
  {
   "cell_type": "code",
   "execution_count": null,
   "metadata": {},
   "outputs": [],
   "source": [
    "lt.info()"
   ]
  },
  {
   "cell_type": "code",
   "execution_count": null,
   "metadata": {},
   "outputs": [],
   "source": [
    "a = lt.iloc[:,0:12]\n",
    "c = lt.iloc[:, 12:17]"
   ]
  },
  {
   "cell_type": "markdown",
   "metadata": {},
   "source": [
    "#### ***II) Home & Away***"
   ]
  },
  {
   "cell_type": "code",
   "execution_count": null,
   "metadata": {},
   "outputs": [],
   "source": [
    "ha.head()"
   ]
  },
  {
   "cell_type": "code",
   "execution_count": null,
   "metadata": {},
   "outputs": [],
   "source": [
    "ha.info()"
   ]
  },
  {
   "cell_type": "code",
   "execution_count": null,
   "metadata": {},
   "outputs": [],
   "source": [
    "# convert year column to object\n",
    "ha['year'] = ha['year'].apply(lambda x: str(x))"
   ]
  },
  {
   "cell_type": "code",
   "execution_count": null,
   "metadata": {},
   "outputs": [],
   "source": [
    "b = ha.iloc[:, 3:20]"
   ]
  },
  {
   "cell_type": "markdown",
   "metadata": {},
   "source": [
    "#### ***III) squad standard stats***"
   ]
  },
  {
   "cell_type": "markdown",
   "metadata": {},
   "source": [
    "\n",
    "  -                    Playing Time\t              Performance\t                      Per 90 Minutes\n",
    "  -               MP Starts Min 90s\t     Gls Ast G-PK PK PKatt CrdY CrdR\t         Gls Ast 0G+A G-PK G+A-PK"
   ]
  },
  {
   "cell_type": "code",
   "execution_count": null,
   "metadata": {},
   "outputs": [],
   "source": [
    "st.head(3)"
   ]
  },
  {
   "cell_type": "code",
   "execution_count": null,
   "metadata": {},
   "outputs": [],
   "source": [
    "st.info()"
   ]
  },
  {
   "cell_type": "code",
   "execution_count": null,
   "metadata": {},
   "outputs": [],
   "source": [
    "# create a new data include poss\n",
    "st18 = st.loc[st['year'] >= 2018].iloc[:,:-1]"
   ]
  },
  {
   "cell_type": "code",
   "execution_count": null,
   "metadata": {},
   "outputs": [],
   "source": [
    "# drop the poss column\n",
    "st.drop('Poss', axis=1, inplace=True)"
   ]
  },
  {
   "cell_type": "code",
   "execution_count": null,
   "metadata": {},
   "outputs": [],
   "source": [
    "st14 = st.iloc[:,:-1]"
   ]
  },
  {
   "cell_type": "markdown",
   "metadata": {},
   "source": [
    "#### ***IIII) squad goalkeeping***"
   ]
  },
  {
   "cell_type": "code",
   "execution_count": null,
   "metadata": {},
   "outputs": [],
   "source": [
    "gk.head()"
   ]
  },
  {
   "cell_type": "code",
   "execution_count": null,
   "metadata": {},
   "outputs": [],
   "source": [
    "gk.info()"
   ]
  },
  {
   "cell_type": "code",
   "execution_count": null,
   "metadata": {},
   "outputs": [],
   "source": [
    "# create a new data include poss\n",
    "gk14 = gk.iloc[:,6:-1]\n",
    "gk14.head(3)"
   ]
  },
  {
   "cell_type": "code",
   "execution_count": null,
   "metadata": {},
   "outputs": [],
   "source": [
    "gk.drop('Save%', axis=1, inplace=True)"
   ]
  },
  {
   "cell_type": "code",
   "execution_count": null,
   "metadata": {},
   "outputs": [],
   "source": [
    "\n",
    "gk18 = gk.loc[st['year'] >= 2018].iloc[:,6:-1]\n",
    "gk18.head(3)"
   ]
  },
  {
   "cell_type": "markdown",
   "metadata": {},
   "source": [
    "#### ***IIIII) squad shooting***"
   ]
  },
  {
   "cell_type": "code",
   "execution_count": null,
   "metadata": {},
   "outputs": [],
   "source": [
    "sh.head()"
   ]
  },
  {
   "cell_type": "code",
   "execution_count": null,
   "metadata": {},
   "outputs": [],
   "source": [
    "sh.info()"
   ]
  },
  {
   "cell_type": "code",
   "execution_count": null,
   "metadata": {},
   "outputs": [],
   "source": [
    "sh18 = sh.iloc[:,4:-1]\n",
    "sh18.head(3)"
   ]
  },
  {
   "cell_type": "markdown",
   "metadata": {},
   "source": [
    "#### ***IIIIII) squad playing time***\n"
   ]
  },
  {
   "cell_type": "code",
   "execution_count": null,
   "metadata": {},
   "outputs": [],
   "source": [
    "pt.sample(5)"
   ]
  },
  {
   "cell_type": "code",
   "execution_count": null,
   "metadata": {},
   "outputs": [],
   "source": [
    "pt.info()"
   ]
  },
  {
   "cell_type": "code",
   "execution_count": null,
   "metadata": {},
   "outputs": [],
   "source": [
    "pt.drop('Compl', axis=1, inplace=True)"
   ]
  },
  {
   "cell_type": "code",
   "execution_count": null,
   "metadata": {},
   "outputs": [],
   "source": [
    "pt18 = pt.loc[pt['year'] >= 2018].iloc[:,10:-1]\n",
    "pt18.head(3)"
   ]
  },
  {
   "cell_type": "code",
   "execution_count": null,
   "metadata": {},
   "outputs": [],
   "source": [
    "pt14 = pt.iloc[:,10:]\n",
    "pt14.head(3)"
   ]
  },
  {
   "cell_type": "markdown",
   "metadata": {},
   "source": [
    "#### ***IIIIIII) squad miscellaneous stats***"
   ]
  },
  {
   "cell_type": "code",
   "execution_count": null,
   "metadata": {},
   "outputs": [],
   "source": [
    "ms.head()"
   ]
  },
  {
   "cell_type": "code",
   "execution_count": null,
   "metadata": {},
   "outputs": [],
   "source": [
    "ms.info()"
   ]
  },
  {
   "cell_type": "code",
   "execution_count": null,
   "metadata": {},
   "outputs": [],
   "source": [
    "ms.drop(['PKwon', 'PKcon'], axis=1, inplace=True)"
   ]
  },
  {
   "cell_type": "code",
   "execution_count": null,
   "metadata": {},
   "outputs": [],
   "source": [
    "ms18 = ms.loc[ms['year'] >= 2018].iloc[:,6:]\n",
    "ms18.head(3)"
   ]
  },
  {
   "cell_type": "markdown",
   "metadata": {},
   "source": [
    "### ***merging tables***"
   ]
  },
  {
   "cell_type": "markdown",
   "metadata": {},
   "source": [
    "***lueage table & hmoe away table***"
   ]
  },
  {
   "cell_type": "code",
   "execution_count": null,
   "metadata": {},
   "outputs": [],
   "source": [
    "ltha = pd.concat([a,b,c],axis=1)\n",
    "ltha.sample(5)"
   ]
  },
  {
   "cell_type": "code",
   "execution_count": null,
   "metadata": {},
   "outputs": [],
   "source": [
    "ltha.info()"
   ]
  },
  {
   "cell_type": "markdown",
   "metadata": {},
   "source": [
    "***2018 - 2021***"
   ]
  },
  {
   "cell_type": "code",
   "execution_count": null,
   "metadata": {},
   "outputs": [],
   "source": [
    "st18.head(3)"
   ]
  },
  {
   "cell_type": "code",
   "execution_count": null,
   "metadata": {},
   "outputs": [],
   "source": [
    "sh18.head(3)"
   ]
  },
  {
   "cell_type": "code",
   "execution_count": null,
   "metadata": {},
   "outputs": [],
   "source": [
    "pt18.head(3)"
   ]
  },
  {
   "cell_type": "code",
   "execution_count": null,
   "metadata": {},
   "outputs": [],
   "source": [
    "ms18.head()"
   ]
  },
  {
   "cell_type": "code",
   "execution_count": null,
   "metadata": {},
   "outputs": [],
   "source": [
    "gk18.head()"
   ]
  },
  {
   "cell_type": "code",
   "execution_count": null,
   "metadata": {},
   "outputs": [],
   "source": [
    "ls18 = pd.concat([st18,sh18,pt18,ms18,gk18], axis=1)\n",
    "ls18.head()"
   ]
  },
  {
   "cell_type": "code",
   "execution_count": null,
   "metadata": {},
   "outputs": [],
   "source": [
    "# convert year column to object\n",
    "ls18['year'] = ls18['year'].apply(lambda x: str(x))"
   ]
  },
  {
   "cell_type": "code",
   "execution_count": null,
   "metadata": {},
   "outputs": [],
   "source": [
    "ls18.info()"
   ]
  },
  {
   "cell_type": "markdown",
   "metadata": {},
   "source": [
    "***2014 - 2021***"
   ]
  },
  {
   "cell_type": "code",
   "execution_count": null,
   "metadata": {},
   "outputs": [],
   "source": [
    "st14.head(3)"
   ]
  },
  {
   "cell_type": "code",
   "execution_count": null,
   "metadata": {},
   "outputs": [],
   "source": [
    "pt14.head(3)"
   ]
  },
  {
   "cell_type": "code",
   "execution_count": null,
   "metadata": {},
   "outputs": [],
   "source": [
    "gk14.head(3)"
   ]
  },
  {
   "cell_type": "code",
   "execution_count": null,
   "metadata": {},
   "outputs": [],
   "source": [
    "ls14 = pd.concat([st14,pt14,gk14], axis=1)\n",
    "ls14.head(3)"
   ]
  },
  {
   "cell_type": "code",
   "execution_count": null,
   "metadata": {},
   "outputs": [],
   "source": [
    "# convert year column to object\n",
    "ls14['year'] = ls14['year'].apply(lambda x: str(x))"
   ]
  },
  {
   "cell_type": "code",
   "execution_count": null,
   "metadata": {},
   "outputs": [],
   "source": [
    "ls14.info()"
   ]
  },
  {
   "cell_type": "markdown",
   "metadata": {},
   "source": [
    "___\n",
    "###  1.3- ***Save Data***\n",
    "___"
   ]
  },
  {
   "cell_type": "markdown",
   "metadata": {},
   "source": [
    "##### ***ltha***"
   ]
  },
  {
   "cell_type": "code",
   "execution_count": null,
   "metadata": {},
   "outputs": [],
   "source": [
    "ltha.to_csv('new_league_tables', index=False)"
   ]
  },
  {
   "cell_type": "markdown",
   "metadata": {},
   "source": [
    "##### ***ls 18-14***"
   ]
  },
  {
   "cell_type": "code",
   "execution_count": null,
   "metadata": {},
   "outputs": [],
   "source": [
    "ls18.to_csv('period 18-21', index=False)"
   ]
  },
  {
   "cell_type": "code",
   "execution_count": null,
   "metadata": {},
   "outputs": [],
   "source": [
    "ls14.to_csv('period 14-21', index=False)"
   ]
  },
  {
   "cell_type": "markdown",
   "metadata": {},
   "source": [
    "## ***Players***"
   ]
  },
  {
   "cell_type": "markdown",
   "metadata": {},
   "source": [
    "___\n",
    "### 1.0- ***Acquiring Data***\n",
    "___"
   ]
  },
  {
   "cell_type": "markdown",
   "metadata": {},
   "source": [
    "#### This data was collected from FBREF website for the season 2021.\n",
    "[FBREF](https://fbref.com/en/comps/70/stats/Saudi-Professional-League-Stats)"
   ]
  },
  {
   "cell_type": "markdown",
   "metadata": {},
   "source": [
    "___\n",
    "### 1.1- ***Load Data***\n",
    "___"
   ]
  },
  {
   "cell_type": "code",
   "execution_count": null,
   "metadata": {},
   "outputs": [],
   "source": [
    "st = pd.read_csv('Players Standard Stats.txt')\n",
    "gk = pd.read_csv('player Goalkeeping.txt')\n",
    "sh = pd.read_csv('player Shooting.txt')\n",
    "pt = pd.read_csv('player Playing Time.txt')\n",
    "ms = pd.read_csv('player Miscellaneous Stats.txt')"
   ]
  },
  {
   "cell_type": "markdown",
   "metadata": {},
   "source": [
    "___\n",
    "### 1.2- ***Clean Data***\n",
    "___"
   ]
  },
  {
   "cell_type": "markdown",
   "metadata": {},
   "source": [
    "### ***cleaning tables***"
   ]
  },
  {
   "cell_type": "markdown",
   "metadata": {},
   "source": [
    "#### ***I) player stadard stats***"
   ]
  },
  {
   "cell_type": "code",
   "execution_count": null,
   "metadata": {},
   "outputs": [],
   "source": [
    "st.head(4)"
   ]
  },
  {
   "cell_type": "code",
   "execution_count": null,
   "metadata": {},
   "outputs": [],
   "source": [
    "st.info()"
   ]
  },
  {
   "cell_type": "markdown",
   "metadata": {},
   "source": [
    "Null values"
   ]
  },
  {
   "cell_type": "code",
   "execution_count": null,
   "metadata": {},
   "outputs": [],
   "source": [
    "# the Nan value in %\n",
    "st.isna().sum(axis=0) / st.shape[0] * 100"
   ]
  },
  {
   "cell_type": "code",
   "execution_count": null,
   "metadata": {},
   "outputs": [],
   "source": [
    "sns.heatmap(st.isna())"
   ]
  },
  {
   "cell_type": "markdown",
   "metadata": {},
   "source": [
    "fillna & dropna"
   ]
  },
  {
   "cell_type": "code",
   "execution_count": null,
   "metadata": {},
   "outputs": [],
   "source": [
    "st.drop('-9999', axis=1, inplace=True)"
   ]
  },
  {
   "cell_type": "code",
   "execution_count": null,
   "metadata": {},
   "outputs": [],
   "source": [
    "st['Pos'].fillna('DF', inplace=True)\n",
    "st['Nation'].fillna('sa KSA', inplace=True)\n",
    "st['Age'].fillna(26.3, inplace=True)\n",
    "st['Born'].fillna(1991.3, inplace=True)"
   ]
  },
  {
   "cell_type": "markdown",
   "metadata": {},
   "source": [
    "{Age: 26.3  , Born: 1991.3}"
   ]
  },
  {
   "cell_type": "code",
   "execution_count": null,
   "metadata": {},
   "outputs": [],
   "source": [
    "sns.heatmap(st.isna())"
   ]
  },
  {
   "cell_type": "markdown",
   "metadata": {},
   "source": [
    "player "
   ]
  },
  {
   "cell_type": "code",
   "execution_count": null,
   "metadata": {},
   "outputs": [],
   "source": [
    "st.Player = st.Player.apply(lambda x: x.replace('Al-','Al')\n",
    "                                      .replace('Al ','Al')\n",
    "                                      .replace('l-A','lA')\n",
    "                                      .replace('El ', 'El'))"
   ]
  },
  {
   "cell_type": "markdown",
   "metadata": {},
   "source": [
    "Nation"
   ]
  },
  {
   "cell_type": "code",
   "execution_count": null,
   "metadata": {},
   "outputs": [],
   "source": [
    "print(st['Nation'].nunique())\n",
    "print()\n",
    "print(st['Nation'].unique())"
   ]
  },
  {
   "cell_type": "code",
   "execution_count": null,
   "metadata": {},
   "outputs": [],
   "source": [
    "# Keep the 3 letters country code and remove whitespaces\n",
    "st['Nation'] = st.Nation.apply(lambda x: x.split()[-1].strip())"
   ]
  },
  {
   "cell_type": "markdown",
   "metadata": {},
   "source": [
    "pos"
   ]
  },
  {
   "cell_type": "code",
   "execution_count": null,
   "metadata": {},
   "outputs": [],
   "source": [
    "st.Pos.unique()"
   ]
  },
  {
   "cell_type": "code",
   "execution_count": null,
   "metadata": {},
   "outputs": [],
   "source": [
    "# Keep the first postion only (for simplicity)\n",
    "st.Pos = st.Pos.apply(lambda x: x[0])\n"
   ]
  },
  {
   "cell_type": "code",
   "execution_count": null,
   "metadata": {},
   "outputs": [],
   "source": [
    "st.Pos.unique()"
   ]
  },
  {
   "cell_type": "code",
   "execution_count": null,
   "metadata": {},
   "outputs": [],
   "source": [
    "st.Pos.value_counts().sum()"
   ]
  },
  {
   "cell_type": "code",
   "execution_count": null,
   "metadata": {},
   "outputs": [],
   "source": [
    "st.head(3)"
   ]
  },
  {
   "cell_type": "markdown",
   "metadata": {},
   "source": [
    "create 2 tables"
   ]
  },
  {
   "cell_type": "code",
   "execution_count": null,
   "metadata": {},
   "outputs": [],
   "source": [
    "st18 = st[st.year >= 2018].iloc[:,:-1]\n",
    "st18.tail()"
   ]
  },
  {
   "cell_type": "code",
   "execution_count": null,
   "metadata": {},
   "outputs": [],
   "source": [
    "st14 = st.iloc[:,:-1].reset_index()\n",
    "st14.tail()"
   ]
  },
  {
   "cell_type": "markdown",
   "metadata": {},
   "source": [
    "#### ***II) player shooting***"
   ]
  },
  {
   "cell_type": "code",
   "execution_count": null,
   "metadata": {},
   "outputs": [],
   "source": [
    "sh.head()"
   ]
  },
  {
   "cell_type": "code",
   "execution_count": null,
   "metadata": {},
   "outputs": [],
   "source": [
    "sh.info()"
   ]
  },
  {
   "cell_type": "code",
   "execution_count": null,
   "metadata": {},
   "outputs": [],
   "source": [
    "# the Nan value in %\n",
    "sh.isna().sum(axis=0) / sh.shape[0] * 100"
   ]
  },
  {
   "cell_type": "code",
   "execution_count": null,
   "metadata": {},
   "outputs": [],
   "source": [
    "sns.heatmap(sh.isna())"
   ]
  },
  {
   "cell_type": "markdown",
   "metadata": {},
   "source": [
    "fillna & dropna"
   ]
  },
  {
   "cell_type": "code",
   "execution_count": null,
   "metadata": {},
   "outputs": [],
   "source": [
    "sh.drop(['Dist', '-9999'], axis=1, inplace=True)"
   ]
  },
  {
   "cell_type": "code",
   "execution_count": null,
   "metadata": {},
   "outputs": [],
   "source": [
    "sh['Pos'].fillna('DF', inplace=True)\n",
    "sh['Nation'].fillna('sa KSA', inplace=True)\n",
    "sh['Age'].fillna(26.3, inplace=True)\n",
    "sh['Born'].fillna(1991.3, inplace=True)"
   ]
  },
  {
   "cell_type": "code",
   "execution_count": null,
   "metadata": {},
   "outputs": [],
   "source": [
    "sh['G/Sh'] = sh['G/Sh'].fillna(0)\n",
    "sh['SoT%'] = sh['SoT%'].fillna(0)\n",
    "sh['G/SoT'] = sh['G/SoT'].fillna(0)"
   ]
  },
  {
   "cell_type": "code",
   "execution_count": null,
   "metadata": {},
   "outputs": [],
   "source": [
    "sns.heatmap(sh.isna())"
   ]
  },
  {
   "cell_type": "code",
   "execution_count": null,
   "metadata": {},
   "outputs": [],
   "source": [
    "sh.info()"
   ]
  },
  {
   "cell_type": "code",
   "execution_count": null,
   "metadata": {},
   "outputs": [],
   "source": [
    "sh18 = sh.iloc[:,7:-1]\n",
    "sh18.shape"
   ]
  },
  {
   "cell_type": "markdown",
   "metadata": {},
   "source": [
    "#### ***III) players playing time***"
   ]
  },
  {
   "cell_type": "code",
   "execution_count": null,
   "metadata": {},
   "outputs": [],
   "source": [
    "pt.head(3)"
   ]
  },
  {
   "cell_type": "code",
   "execution_count": null,
   "metadata": {},
   "outputs": [],
   "source": [
    "pt.info()"
   ]
  },
  {
   "cell_type": "markdown",
   "metadata": {},
   "source": [
    "Null values"
   ]
  },
  {
   "cell_type": "code",
   "execution_count": null,
   "metadata": {},
   "outputs": [],
   "source": [
    "# the Nan value in %\n",
    "pt.isna().sum(axis=0) / pt.shape[0] * 100"
   ]
  },
  {
   "cell_type": "markdown",
   "metadata": {},
   "source": [
    "dropna & fillna"
   ]
  },
  {
   "cell_type": "code",
   "execution_count": null,
   "metadata": {},
   "outputs": [],
   "source": [
    "pt['Pos'].fillna('DF', inplace=True)\n",
    "pt['Nation'].fillna('sa KSA', inplace=True)\n",
    "pt['Age'].fillna(26.3, inplace=True)\n",
    "pt['Born'].fillna(1991.3, inplace=True)"
   ]
  },
  {
   "cell_type": "code",
   "execution_count": null,
   "metadata": {},
   "outputs": [],
   "source": [
    "pt['Mn/Sub'] = pt['Mn/Sub'].fillna(0)\n",
    "pt['Mn/Start'] = pt['Mn/Start'].fillna(0)\n",
    "pt['Compl'] = pt['Compl'].fillna(0)\n",
    "pt['On-Off'] = pt['On-Off'].fillna(0)"
   ]
  },
  {
   "cell_type": "code",
   "execution_count": null,
   "metadata": {},
   "outputs": [],
   "source": [
    "pt.dropna(subset= ['Min'], axis=0, inplace=True)\n",
    "pt.shape"
   ]
  },
  {
   "cell_type": "code",
   "execution_count": null,
   "metadata": {},
   "outputs": [],
   "source": [
    "pt[pt.year >= 2018].reset_index().shape"
   ]
  },
  {
   "cell_type": "code",
   "execution_count": null,
   "metadata": {},
   "outputs": [],
   "source": [
    "pt18 = pt[pt.year >= 2018].reset_index().iloc[:, 7:-2]\n",
    "pt18.tail()"
   ]
  },
  {
   "cell_type": "code",
   "execution_count": null,
   "metadata": {},
   "outputs": [],
   "source": [
    "pt14 = pt.iloc[:, 7:-1].reset_index()\n",
    "pt14.head(2)"
   ]
  },
  {
   "cell_type": "markdown",
   "metadata": {},
   "source": [
    "#### ***III) player miscellaneous stats***"
   ]
  },
  {
   "cell_type": "code",
   "execution_count": null,
   "metadata": {},
   "outputs": [],
   "source": [
    "ms.sample(4)"
   ]
  },
  {
   "cell_type": "code",
   "execution_count": null,
   "metadata": {},
   "outputs": [],
   "source": [
    "ms.info()"
   ]
  },
  {
   "cell_type": "code",
   "execution_count": null,
   "metadata": {},
   "outputs": [],
   "source": [
    "ms.drop(['-9999','PKwon','PKcon'], axis=1, inplace=True)"
   ]
  },
  {
   "cell_type": "code",
   "execution_count": null,
   "metadata": {},
   "outputs": [],
   "source": [
    "ms['Pos'].fillna('DF', inplace=True)\n",
    "ms['Nation'].fillna('sa KSA', inplace=True)\n",
    "ms['Age'].fillna(26.3, inplace=True)\n",
    "ms['Born'].fillna(1991.3, inplace=True)"
   ]
  },
  {
   "cell_type": "code",
   "execution_count": null,
   "metadata": {},
   "outputs": [],
   "source": [
    "ms18 = ms.iloc[:,11:19]\n",
    "ms18.head(3)"
   ]
  },
  {
   "cell_type": "markdown",
   "metadata": {},
   "source": [
    "#### ***II) players goalkeeping***"
   ]
  },
  {
   "cell_type": "code",
   "execution_count": null,
   "metadata": {},
   "outputs": [],
   "source": [
    "gk.sample(5)"
   ]
  },
  {
   "cell_type": "code",
   "execution_count": null,
   "metadata": {},
   "outputs": [],
   "source": [
    "gk.info()"
   ]
  },
  {
   "cell_type": "code",
   "execution_count": null,
   "metadata": {},
   "outputs": [],
   "source": [
    "sns.heatmap(gk.isna())"
   ]
  },
  {
   "cell_type": "code",
   "execution_count": null,
   "metadata": {},
   "outputs": [],
   "source": [
    "# the Nan value in %\n",
    "gk.isna().sum(axis=0) / gk.shape[0] * 100"
   ]
  },
  {
   "cell_type": "markdown",
   "metadata": {},
   "source": [
    "dropna & fillna"
   ]
  },
  {
   "cell_type": "code",
   "execution_count": null,
   "metadata": {},
   "outputs": [],
   "source": [
    "gk.drop('-9999', axis=1, inplace=True)"
   ]
  },
  {
   "cell_type": "code",
   "execution_count": null,
   "metadata": {},
   "outputs": [],
   "source": [
    "gk['Age'].fillna(gk['Age'].mean() , inplace=True)\n",
    "gk['Born'].fillna(gk['Born'].mean(), inplace=True)"
   ]
  },
  {
   "cell_type": "code",
   "execution_count": null,
   "metadata": {},
   "outputs": [],
   "source": [
    "gk['GA'].fillna(18.3 , inplace=True)\n",
    "gk['GA90'].fillna(1.3 , inplace=True)\n",
    "gk['SoTA'].fillna(51.3 , inplace=True)\n",
    "gk['Save%'].fillna(69.3 , inplace=True)\n",
    "gk['W'].fillna(4.3 , inplace=True)\n",
    "gk['D'].fillna(2.3 , inplace=True)\n",
    "gk['L'].fillna(4.3 , inplace=True)\n",
    "gk['CS%'].fillna(18.3 , inplace=True)\n",
    "gk['CS%'].fillna(22.3 , inplace=True)\n",
    "gk['Save%.1'].fillna(13.3 , inplace=True)"
   ]
  },
  {
   "cell_type": "markdown",
   "metadata": {},
   "source": [
    "player"
   ]
  },
  {
   "cell_type": "code",
   "execution_count": null,
   "metadata": {},
   "outputs": [],
   "source": [
    "gk.Player = gk.Player.apply(lambda x: x.replace('Al-','Al')\n",
    "                                      .replace('Al ','Al')\n",
    "                                      .replace('l-A','lA')\n",
    "                                      .replace('El ', 'El'))"
   ]
  },
  {
   "cell_type": "markdown",
   "metadata": {},
   "source": [
    "Nation"
   ]
  },
  {
   "cell_type": "code",
   "execution_count": null,
   "metadata": {},
   "outputs": [],
   "source": [
    "# Keep the 3 letters country code and remove whitespaces\n",
    "gk['Nation'] = gk.Nation.apply(lambda x: x.split()[-1].strip())"
   ]
  },
  {
   "cell_type": "markdown",
   "metadata": {},
   "source": [
    "pos"
   ]
  },
  {
   "cell_type": "code",
   "execution_count": null,
   "metadata": {},
   "outputs": [],
   "source": [
    "gk['Pos'].unique()"
   ]
  },
  {
   "cell_type": "code",
   "execution_count": null,
   "metadata": {},
   "outputs": [],
   "source": [
    "# Keep the first postion only (for simplicity)\n",
    "gk.Pos = gk.Pos.apply(lambda x: x.split(',')[0])"
   ]
  },
  {
   "cell_type": "code",
   "execution_count": null,
   "metadata": {},
   "outputs": [],
   "source": [
    "gk.head(3)"
   ]
  },
  {
   "cell_type": "markdown",
   "metadata": {},
   "source": [
    "### ***Merging tables***"
   ]
  },
  {
   "cell_type": "code",
   "execution_count": null,
   "metadata": {},
   "outputs": [],
   "source": [
    "pt18.tail()"
   ]
  },
  {
   "cell_type": "code",
   "execution_count": null,
   "metadata": {},
   "outputs": [],
   "source": [
    "ps18 = pd.concat((st18,sh18,pt18,ms18), axis=1).reset_index()"
   ]
  },
  {
   "cell_type": "code",
   "execution_count": null,
   "metadata": {},
   "outputs": [],
   "source": [
    "ps18.head()"
   ]
  },
  {
   "cell_type": "code",
   "execution_count": null,
   "metadata": {},
   "outputs": [],
   "source": [
    "ps18.info()"
   ]
  },
  {
   "cell_type": "code",
   "execution_count": null,
   "metadata": {},
   "outputs": [],
   "source": [
    "pt14.shape"
   ]
  },
  {
   "cell_type": "code",
   "execution_count": null,
   "metadata": {},
   "outputs": [],
   "source": [
    "st14.shape"
   ]
  },
  {
   "cell_type": "code",
   "execution_count": null,
   "metadata": {},
   "outputs": [],
   "source": [
    "st14.tail()"
   ]
  },
  {
   "cell_type": "code",
   "execution_count": null,
   "metadata": {},
   "outputs": [],
   "source": [
    "pt14.tail()"
   ]
  },
  {
   "cell_type": "code",
   "execution_count": null,
   "metadata": {},
   "outputs": [],
   "source": [
    "ps14 = pd.concat((st14,pt14), axis=1)\n",
    "ps14.tail(3)"
   ]
  },
  {
   "cell_type": "code",
   "execution_count": null,
   "metadata": {},
   "outputs": [],
   "source": [
    "ps14.info()"
   ]
  },
  {
   "cell_type": "markdown",
   "metadata": {},
   "source": [
    "___\n",
    "### 1.3- ***Save data***\n",
    "___"
   ]
  },
  {
   "cell_type": "markdown",
   "metadata": {},
   "source": [
    "##### ***ls 18-14***"
   ]
  },
  {
   "cell_type": "code",
   "execution_count": null,
   "metadata": {},
   "outputs": [],
   "source": [
    "ps18.to_csv('p_period 18-21', index=False)"
   ]
  },
  {
   "cell_type": "code",
   "execution_count": null,
   "metadata": {},
   "outputs": [],
   "source": [
    "ps14.to_csv('p_period 14-21', index=False)"
   ]
  },
  {
   "cell_type": "code",
   "execution_count": null,
   "metadata": {},
   "outputs": [],
   "source": [
    "gk.to_csv('goolkeepars', index=False)"
   ]
  },
  {
   "cell_type": "markdown",
   "metadata": {},
   "source": [
    "# ***Exploratory Analysis***"
   ]
  },
  {
   "cell_type": "code",
   "execution_count": null,
   "metadata": {},
   "outputs": [],
   "source": [
    "import pandas as pd\n",
    "import numpy as np \n",
    "\n",
    "import plotly as py\n",
    "import plotly.express as px\n",
    "import plotly.graph_objs as go\n",
    "import seaborn as sns\n",
    "from plotly.offline import init_notebook_mode, iplot\n",
    "init_notebook_mode(connected=True)\n",
    "import matplotlib.pyplot as plt\n",
    "%matplotlib inline\n",
    "\n",
    "from plotly.subplots import make_subplots\n",
    "from IPython.display import Image\n",
    "import plotly.figure_factory as ff\n",
    "import ipywidgets as wid\n",
    "import re \n",
    "from scipy import special\n",
    "import warnings\n",
    "warnings.filterwarnings('ignore')\n",
    "\n",
    "pd.set_option('display.max_rows', None)\n",
    "pd.set_option('display.max_columns', None)\n",
    "py.offline.init_notebook_mode(connected= True)"
   ]
  },
  {
   "cell_type": "markdown",
   "metadata": {},
   "source": [
    "## ***Squads***"
   ]
  },
  {
   "cell_type": "markdown",
   "metadata": {},
   "source": [
    "***\n",
    "### 2.1- ***Load Data***\n",
    "***"
   ]
  },
  {
   "cell_type": "code",
   "execution_count": null,
   "metadata": {},
   "outputs": [],
   "source": [
    "lt = pd.read_csv('new_league_tables')\n",
    "ps18 = pd.read_csv('period 18-21')\n",
    "ps14 = pd.read_csv('period 14-21')"
   ]
  },
  {
   "cell_type": "markdown",
   "metadata": {},
   "source": [
    "***\n",
    "### 2.2- ***Exploratory Analysis***\n",
    "***"
   ]
  },
  {
   "cell_type": "markdown",
   "metadata": {},
   "source": [
    "### EDA on Saudi Professional League Statistics\n",
    "#### Objectives:\n",
    "Exploratory data anlysis on Saudi Professional League stats dataset.\n",
    "Learn and apply data visualizatiosn techniques using plotly's data visualization library.\n",
    "1. Introduction\n",
    "\n",
    "The Saudi Professional League, also known as the SPL League is the top division of association football in the Saudi Arabian league system. From 2013 to 2019, it was known as the Abdul Latif Jameel League, or Dawry Jameel, as it was sponsored by Abdul Latif Jameel.\n",
    "The first season of competition was the 1976–77 season, Al Hilal is the most successful team, holding 18 titles in its history and most recently winning the title in 2021–22.\n",
    "\n",
    " 1.1 The Saudi League"
   ]
  },
  {
   "cell_type": "code",
   "execution_count": null,
   "metadata": {},
   "outputs": [],
   "source": [
    "from IPython.display import Image\n",
    "Image(\"Saudi-Professionals-League.jpg\")"
   ]
  },
  {
   "cell_type": "markdown",
   "metadata": {},
   "source": [
    "***\n",
    "#### ***General Exploration***\n",
    "- league table\n",
    "- period 18-21\n",
    "- period 18-21\n",
    "***"
   ]
  },
  {
   "cell_type": "markdown",
   "metadata": {},
   "source": [
    "##### ***league table***"
   ]
  },
  {
   "cell_type": "code",
   "execution_count": null,
   "metadata": {},
   "outputs": [],
   "source": [
    "print(lt.shape)\n",
    "lt.head(3)"
   ]
  },
  {
   "cell_type": "code",
   "execution_count": null,
   "metadata": {},
   "outputs": [],
   "source": [
    "# Set parameters for graphing\n",
    "sns.set_style(\"whitegrid\")\n",
    "plt.rcParams['figure.figsize'] = [16.0, 8.0]\n",
    "plt.rcParams['font.size'] = 12\n",
    "plt.rcParams['legend.markerscale'] = 1.5\n",
    "# Color\n",
    "all_colors = {'Al-Hilal':'#032e91', \n",
    "          'Al-Nassr':'#c97600', \n",
    "          'Al-Ahli':'#089103', \n",
    "          'Al-Wehda':'#b00000', \n",
    "         'Al-Faisaly': '#5c0000',\n",
    "         'Al-Raed': '#7a0000',\n",
    "         'Al-Shabab': '#000000',\n",
    "         'Al-Ettifaq': '#60b043',\n",
    "         'Abha': '#ff963b',\n",
    "         \"Al-Ta'ee\": '#ff963b',\n",
    "         'Damac': '#613e1f',\n",
    "         'Al-Ittihad': '#e0b000',\n",
    "         'Al-Taawoun': '#b0965a',\n",
    "         'Al-Fateh': '#5a7eb0',\n",
    "         'Al-Fayha': '#02214d',\n",
    "         'Al-Hazem': '#490059',\n",
    "         'Al-Adalah': '#ad398b',\n",
    "         'Al-Ain': '#498f6c',\n",
    "         'Al-Qadsiah':'#d44866' ,\n",
    "         'Al-Batin': '#575757',\n",
    "         'Ohod': '#81ab67',\n",
    "         'Al-Khaleej': '#498f6c',\n",
    "         'Najran': '#20b074',\n",
    "         'Hajer': '#73c5ff',\n",
    "         'Al-Shoulla': '#69164e',\n",
    "         'Al-Orobah': '#5b6e75'}\n",
    "\n",
    "\n",
    "# Set Color\n",
    "sns.set_palette(sns.color_palette(all_colors.values()))"
   ]
  },
  {
   "cell_type": "markdown",
   "metadata": {},
   "source": [
    "## Points\n",
    "\n",
    "summary :\n",
    "- the number of teams that exceed 60 points is 4 [Al-Hilal 5 times W 5, Al-Nasser 3 times W 2, Al-Itti 1 time , Al-Ahli 1 time W 1] \n",
    "- the number of teams that not exceed 20 points is 6 [Al-Hazem, Al-Wehda, Al-Ain, Ohod, Hajer, Al-Orobah]\n",
    "- Number of remaining teams is: 9  [Al-Hilal, Al-Ittihad, Al-Nassr, Al-Shabab, Al-Raed, Al-Fateh, Al-Taawoun, Al-Faisaly, Al-Ahli]\n",
    "-        [Al-Hilal , Al-Nassr , Al-Ittihad , Al-Ahli , Al-Shabab , Al-Taawoun , Al-Faisaly , Al-Raed , Al-Fateh  ]\n",
    "- Range       18         38        30.5         31         26          28           20         22         13\n",
    "- IQR        12.5        19        19.5         13        18.5        13.5          10         12         5.5\n",
    "- median     63.5       56.5       50.5         55        42.5        34.5          34        35.5        35\n",
    "- mean        62         54         47          51         44          38           35         33         35\n",
    "  \n",
    "Extra info :\n",
    "- The most stable difference in level are [Al-Fateh , Al-Hilal]\n",
    "- The most unstable difference in the level [Al-Nassr , Al-Ittihad]"
   ]
  },
  {
   "cell_type": "markdown",
   "metadata": {},
   "source": [
    "***Teams points for the period 2014-2021***"
   ]
  },
  {
   "cell_type": "code",
   "execution_count": null,
   "metadata": {},
   "outputs": [],
   "source": [
    "px.scatter(lt,\n",
    "            x=lt.Squad, y='Pts', template='plotly_dark',\n",
    "             size= 'Pts', color_discrete_map=all_colors,\n",
    "             color='Squad',hover_name= 'year',\n",
    "             title='Teams Points from 2014 - 2021')"
   ]
  },
  {
   "cell_type": "markdown",
   "metadata": {},
   "source": [
    "***Remaining teams in the league for the period 2014-2021***"
   ]
  },
  {
   "cell_type": "code",
   "execution_count": null,
   "metadata": {},
   "outputs": [],
   "source": [
    "remaining_teams = []\n",
    "for i in lt.Squad.unique():\n",
    "    if(lt[lt.Squad == i].shape[0]>7):\n",
    "        remaining_teams.append(i)\n",
    "\n",
    "print('Number of remaining teams is: ',len(remaining_teams),'\\n')\n",
    "print(remaining_teams)"
   ]
  },
  {
   "cell_type": "code",
   "execution_count": null,
   "metadata": {},
   "outputs": [],
   "source": [
    "top_teams = lt[lt.Squad.isin(remaining_teams)].sort_values(by= 'Pts',ascending=False)\n",
    "\n",
    "px.scatter(top_teams,\n",
    "            x=top_teams.Squad, y='Pts', template='plotly_dark',\n",
    "             size= 'Pts', color='Squad',hover_name= 'year',color_discrete_map=all_colors,\n",
    "             title='Top Teams Points from 2014 - 2021')"
   ]
  },
  {
   "cell_type": "code",
   "execution_count": null,
   "metadata": {},
   "outputs": [],
   "source": [
    "\n",
    "px.scatter(data_frame=top_teams.sort_values(by= 'year', ascending=True),\n",
    "             x='Squad', y='Pts',template='plotly_dark', size='Pts', color= 'Squad',\n",
    "              title='Teams Points for the period 2014 - 2021', color_discrete_map=all_colors,\n",
    "                range_y= [10,80], hover_name='Squad',height=500, size_max=20, animation_frame= 'year')\n"
   ]
  },
  {
   "cell_type": "code",
   "execution_count": null,
   "metadata": {},
   "outputs": [],
   "source": [
    "px.violin(top_teams,\n",
    "          y= 'Pts', x= 'Squad', color= 'Squad',\n",
    "           box= True, color_discrete_map=all_colors,\n",
    "            title='Teams Points for the period 2014 - 2021',\n",
    "              hover_name= 'Squad',template='plotly_dark')"
   ]
  },
  {
   "cell_type": "markdown",
   "metadata": {},
   "source": [
    "***Average teams points for the period 2014-2021***"
   ]
  },
  {
   "cell_type": "code",
   "execution_count": null,
   "metadata": {},
   "outputs": [],
   "source": [
    "ave_top_team = top_teams.groupby(['Squad'], as_index=False)['Pts'].mean().sort_values(by='Pts',ascending = False)\n",
    "\n",
    "px.scatter(data_frame=ave_top_team,\n",
    "            x= 'Squad', y='Pts', size='Pts',color='Squad',\n",
    "             template='plotly_dark',color_discrete_map=all_colors,\n",
    "               title='Average teams points for the period 2014-2021')"
   ]
  },
  {
   "cell_type": "code",
   "execution_count": null,
   "metadata": {},
   "outputs": [],
   "source": [
    "top_teams.pivot_table( index= 'year',values= 'Pts', columns='Squad' )"
   ]
  },
  {
   "cell_type": "markdown",
   "metadata": {},
   "source": [
    "## Attendance\n",
    "\n",
    "\n",
    "| sammury |\n",
    "- the number of teams that exceed 20k Attendances in one year is 2 [Al-Ittihad 5 times , Al-Ahli 3 times]\n",
    "- the Highest Average teams Atteendance for the period 2014-2021 is [Al-Ittihad 23k , Al-Ahli 18k ]\n",
    "- the Highest attendance rate for the period 2014-2021 is [2014 135k , 2018 134k , 2021 123k]\n",
    "\n",
    "Extra info :\n",
    "- 2020 is not included due to the impact of COVID-19 on attendance"
   ]
  },
  {
   "cell_type": "code",
   "execution_count": null,
   "metadata": {},
   "outputs": [],
   "source": [
    "lt1 = lt[lt.year.isin([2021,2019,2018,2017,2016,2015,2014])]\n",
    "teams_att = pd.DataFrame(lt1.groupby(['Squad','year'])['Attendance'].mean()).reset_index()\n",
    "avr_att = pd.DataFrame(lt.groupby('Squad')['Attendance'].mean()).reset_index().sort_values(by= 'Attendance', ascending=False)\n",
    "sum_att = pd.DataFrame(lt.groupby('year')['Attendance'].sum()).reset_index()"
   ]
  },
  {
   "cell_type": "code",
   "execution_count": null,
   "metadata": {},
   "outputs": [],
   "source": [
    "px.scatter(data_frame= teams_att,\n",
    "            x=teams_att.Squad, y='Attendance', template='plotly_dark',\n",
    "             size= 'Attendance', color='Attendance',hover_name= 'year',\n",
    "             title='teams Attendance for the period 2014-2021')"
   ]
  },
  {
   "cell_type": "code",
   "execution_count": null,
   "metadata": {},
   "outputs": [],
   "source": [
    "px.scatter(data_frame= avr_att, \n",
    "             x=avr_att.Squad, y=avr_att['Attendance'],\n",
    "              size= 'Attendance', template='plotly_dark',color='Attendance',\n",
    "                    title='Average teams Atteendance for the period 2014-2021')"
   ]
  },
  {
   "cell_type": "code",
   "execution_count": null,
   "metadata": {
    "scrolled": true
   },
   "outputs": [],
   "source": [
    "px.scatter(data_frame= sum_att,\n",
    "              x='year', y='Attendance',\n",
    "                 size= 'Attendance', color='Attendance',template='plotly_dark',\n",
    "                          title='Highest attendance rate for the period 2014-2021')"
   ]
  },
  {
   "cell_type": "code",
   "execution_count": null,
   "metadata": {},
   "outputs": [],
   "source": [
    "top_teams.pivot_table( index= 'year',values= 'Attendance', columns='Squad' )"
   ]
  },
  {
   "cell_type": "markdown",
   "metadata": {},
   "source": [
    "## League winner stats per year\n"
   ]
  },
  {
   "cell_type": "markdown",
   "metadata": {},
   "source": [
    "summary :\n",
    "- the Highest league winner points is Al-Hilal-2019 [72] and the lowest is Al-Hilal-2017 [56]\n",
    "- the Highest league winner GDiff is Al-Hilal-2019 [48] and the lowest is Al-Hilal-2017 [24]\n",
    "- the Highest league winner GDiff is Al-Hilal-2021 [28] and the lowest is Al-Hilal-2016 [16]\n",
    "- the Highest attendance rate for league winner is Al-Ahli [27k]\n",
    "\n",
    "Extra info :\n",
    "- the away points rite for league winner for the poried [2014 - 2016] is highest then home \n",
    "- the home points rite for league winner for the poried [2017 - 2021] is highest then away"
   ]
  },
  {
   "cell_type": "code",
   "execution_count": null,
   "metadata": {},
   "outputs": [],
   "source": [
    "# Get the first team each year from 2014-2019\n",
    "league_winner = lt.query(\"Rk == 1\")\n",
    "league_winner = league_winner.sort_values(by='year', ascending=True)\n",
    "league_winner.reset_index(drop=True, inplace=True)\n",
    "\n",
    "px.scatter(league_winner, \n",
    "           x='year', y= 'Pts',\n",
    "            size='Pts', color='Pts', size_max=15 ,\n",
    "             trendline='ols',template='plotly_dark',\n",
    "             title=\"League Winner Points from 2014-2021\")\n"
   ]
  },
  {
   "cell_type": "code",
   "execution_count": null,
   "metadata": {},
   "outputs": [],
   "source": [
    "px.scatter(league_winner, \n",
    "           x='year', y= 'GDiff',\n",
    "            size='GDiff', color='GDiff', size_max=15 ,\n",
    "             trendline='ols',template='plotly_dark',\n",
    "             title=\"League Winner GDiff from 2014-2021\")"
   ]
  },
  {
   "cell_type": "code",
   "execution_count": null,
   "metadata": {},
   "outputs": [],
   "source": [
    "px.scatter(league_winner, \n",
    "           x='year', y= 'GF',\n",
    "            size='GF', color='GF', size_max=15 ,\n",
    "             trendline='ols',template='plotly_dark',\n",
    "             title=\"League Winner GF from 2014-2021\")"
   ]
  },
  {
   "cell_type": "code",
   "execution_count": null,
   "metadata": {},
   "outputs": [],
   "source": [
    "px.scatter(league_winner, \n",
    "           x='year', y= 'GA', width=800,\n",
    "            size='GA', color='GA', size_max=13 ,\n",
    "             trendline='ols',template='plotly_dark',\n",
    "             title=\"League Winner GA from 2014-2021\")"
   ]
  },
  {
   "cell_type": "code",
   "execution_count": null,
   "metadata": {},
   "outputs": [],
   "source": [
    "px.scatter(league_winner, \n",
    "           x='year', y= 'Attendance', width=800,\n",
    "            size='Attendance', color='Attendance', size_max=13 ,\n",
    "             trendline='ols',template='plotly_dark',\n",
    "             title=\"League Winner Attendance from 2014-2021\")"
   ]
  },
  {
   "cell_type": "code",
   "execution_count": null,
   "metadata": {},
   "outputs": [],
   "source": [
    "fig = go.Figure()\n",
    "\n",
    "fig.add_trace(go.Scatter(x=league_winner['year'], y=league_winner['Pts'], name='Points'))\n",
    "fig.add_trace(go.Scatter(x=league_winner['year'], y=league_winner['GF'], name='Goals For'))\n",
    "fig.add_trace(go.Scatter(x=league_winner['year'], y=league_winner['GA'], name='Goals Agenist'))\n",
    "fig.add_trace(go.Scatter(x=league_winner['year'], y=league_winner['GDiff'], name='Goals Difference'))\n",
    "fig.update_layout(title='Overall Statistic for League Winner from 2014-2021', template='plotly_dark')\n",
    "fig.show()"
   ]
  },
  {
   "cell_type": "code",
   "execution_count": null,
   "metadata": {},
   "outputs": [],
   "source": [
    "fig = go.Figure()\n",
    "\n",
    "fig.add_trace(go.Scatter(x=league_winner['year'], y=league_winner['Pts/MP-H'], name='Home'))\n",
    "fig.add_trace(go.Scatter(x=league_winner['year'], y=league_winner['Pts/MP-A'], name='Away'))\n",
    "fig.update_layout(title='Overall Statistic for League Winner from 2014-2021', template='simple_white')\n",
    "fig.show()"
   ]
  },
  {
   "cell_type": "markdown",
   "metadata": {},
   "source": [
    "#####  ***period 14-21 &  18-21***\n"
   ]
  },
  {
   "cell_type": "code",
   "execution_count": null,
   "metadata": {},
   "outputs": [],
   "source": [
    "print(ps14.shape)\n",
    "ps14.head(2)"
   ]
  },
  {
   "cell_type": "code",
   "execution_count": null,
   "metadata": {},
   "outputs": [],
   "source": [
    "print(ps18.shape)\n",
    "ps18.head(2)"
   ]
  },
  {
   "cell_type": "code",
   "execution_count": null,
   "metadata": {},
   "outputs": [],
   "source": [
    "remaining_teams = []\n",
    "for i in ps14.Squad.unique():\n",
    "    if(ps14[ps14.Squad == i].shape[0]>7):\n",
    "        remaining_teams.append(i)\n",
    "top_teams14 = ps14[ps14.Squad.isin(remaining_teams)]\n",
    "top_teams18 = ps18[ps18.Squad.isin(['Al-Ahli', 'Al-Faisaly', 'Al-Fateh', 'Al-Hilal', 'Al-Ittihad','Al-Nassr', 'Al-Raed', 'Al-Shabab', 'Al-Taawoun'])]"
   ]
  },
  {
   "cell_type": "markdown",
   "metadata": {},
   "source": [
    "## ***some intrested states***"
   ]
  },
  {
   "cell_type": "markdown",
   "metadata": {},
   "source": [
    "## Standard Stats"
   ]
  },
  {
   "cell_type": "code",
   "execution_count": null,
   "metadata": {},
   "outputs": [],
   "source": [
    " # 18-Total number of penalties per team 2014 - 2021\n",
    "\n",
    "fig = px.bar_polar(top_teams14, r=\"year\", theta=\"Squad\", color=\"Age\", template='plotly_dark', \n",
    "                   color_discrete_sequence= px.colors.sequential.Plasma_r,width=800,\n",
    "                   title=\"Average Age Per Team per year For The Period 2014-2021\"\n",
    "                  )\n",
    "fig.show()"
   ]
  },
  {
   "cell_type": "code",
   "execution_count": null,
   "metadata": {},
   "outputs": [],
   "source": [
    "fig = px.bar_polar(ps18, r=\"year\", theta=\"Squad\", color=\"Poss\",\n",
    "                   color_discrete_sequence= px.colors.sequential.Plasma_r,width=800,\n",
    "                   title=\"Average poss Per Team per year For The Period 2018-2021\", template='plotly_dark'\n",
    "                  )\n",
    "fig.show()"
   ]
  },
  {
   "cell_type": "code",
   "execution_count": null,
   "metadata": {},
   "outputs": [],
   "source": [
    "\n",
    "df = top_teams18\n",
    "fig = px.sunburst(df, \n",
    "                   path=['Squad', 'year'], \n",
    "                   values='Poss', \n",
    "                 )\n",
    "fig.update_layout(title_text='<b>teams poss by year<b>', \n",
    "                  title_x=0.5, \n",
    "                  titlefont=dict(color='black', \n",
    "                            size=28, \n",
    "                            family=\"Courier New, monospace\",),\n",
    "                  width=600,\n",
    "                  height=600,\n",
    "                  showlegend=False,\n",
    "                 )\n",
    "fig.show()\n"
   ]
  },
  {
   "cell_type": "code",
   "execution_count": null,
   "metadata": {},
   "outputs": [],
   "source": [
    "fig = px.bar_polar(ps14, r=\"year\", theta=\"Squad\", color=\"CrdY\", template='plotly_dark', \n",
    "                   color_discrete_sequence= px.colors.sequential.Plasma_r,width=800,\n",
    "                   title=\"Average CrdY Per Team per year For The Period 2014-2021\"\n",
    "                  )\n",
    "fig.show()"
   ]
  },
  {
   "cell_type": "code",
   "execution_count": null,
   "metadata": {},
   "outputs": [],
   "source": [
    "fig = px.bar_polar(ps14, r=\"year\", theta=\"Squad\", color=\"CrdR\", template='plotly_dark', \n",
    "                   color_discrete_sequence= px.colors.sequential.Plasma_r,width=800,\n",
    "                   title=\"Average CrdR Per Team per year For The Period 2014-2021\"\n",
    "                  )\n",
    "fig.show()"
   ]
  },
  {
   "cell_type": "code",
   "execution_count": null,
   "metadata": {},
   "outputs": [],
   "source": [
    "fig = px.bar_polar(ps18, r=\"year\", theta=\"Squad\", color=\"SoT/90\", template='plotly_dark', \n",
    "                   color_discrete_sequence= px.colors.sequential.Plasma_r,width=700,\n",
    "                   title=\"Average SoT/90 Per Team per year For The Period 2014-2021\"\n",
    "                  )\n",
    "fig.show()"
   ]
  },
  {
   "cell_type": "code",
   "execution_count": null,
   "metadata": {},
   "outputs": [],
   "source": [
    "fig = px.bar_polar(ps18, r=\"year\", theta=\"Squad\", color=\"G/SoT\", template='plotly_dark', \n",
    "                   color_discrete_sequence= px.colors.sequential.Plasma_r,width=700,\n",
    "                   title=\"Average G/SoT Per Team per year For The Period 2014-2021\"\n",
    "                  )\n",
    "fig.show()"
   ]
  },
  {
   "cell_type": "code",
   "execution_count": null,
   "metadata": {},
   "outputs": [],
   "source": [
    "px.scatter(top_teams18,\n",
    "            x=top_teams18.Squad, y='SoTA', template='plotly_dark',width=900,size_max=15,\n",
    "             size= 'SoTA', color='Squad',hover_name= 'year',color_discrete_map=all_colors,\n",
    "             title='Top Teams SoTA from 2014 - 2021')"
   ]
  },
  {
   "cell_type": "code",
   "execution_count": null,
   "metadata": {},
   "outputs": [],
   "source": [
    "from plotly.subplots import make_subplots\n",
    "\n",
    "head = 5\n",
    "df1=ps14.sort_values(by='G-PK', ascending=False).head(head)\n",
    "df2=ps18.sort_values(by='PK', ascending=False).head(head)\n",
    "df3=ps18.sort_values(by='Sh', ascending=False).head(head)\n",
    "df4=ps18.sort_values(by='SoT', ascending=False).head(head)\n",
    "\n",
    "df11=ps18.sort_values(by='Fls', ascending=False).head(head)\n",
    "df12=ps18.sort_values(by='Off', ascending=False).head(head)\n",
    "df13=ps18.sort_values(by='SoTA', ascending=False).head(head)\n",
    "df14=ps18.sort_values(by='Saves', ascending=False).head(head)\n",
    "\n",
    "fig = make_subplots(\n",
    "    rows=4, cols=2,\n",
    "    subplot_titles=('Gools without-PK','Fls' ,'Gools with PK','Off',\n",
    "                    'Shoots', 'SoTA','shoot on target', 'Saves'),\n",
    "    horizontal_spacing = 0.12,\n",
    "    vertical_spacing = 0.075)\n",
    "\n",
    "fig.add_trace(go.Bar(\n",
    "                y=df1[\"Squad\"], \n",
    "                x=df1['G-PK'],\n",
    "                hovertext=df1['Squad'],\n",
    "                orientation='h'),\n",
    "                row=1, col=1)\n",
    "\n",
    "fig.add_trace(go.Bar(\n",
    "                y=df2[\"Squad\"], \n",
    "                x=df2['PK'],\n",
    "                hovertext=df2['Squad'],\n",
    "                orientation='h'),\n",
    "                row=2, col=1)\n",
    "\n",
    "fig.add_trace(go.Bar(\n",
    "                y=df3[\"Squad\"], \n",
    "                x=df3['Sh'],\n",
    "                hovertext=df3['Squad'],\n",
    "                orientation='h'),\n",
    "                row=3, col=1)\n",
    "\n",
    "fig.add_trace(go.Bar(\n",
    "                y=df4[\"Squad\"], \n",
    "                x=df4['SoT'],\n",
    "                hovertext=df4['Squad'],\n",
    "                orientation='h'),\n",
    "                row=4, col=1)\n",
    "\n",
    "\n",
    "fig.add_trace(go.Bar(\n",
    "                y=df11[\"Squad\"], \n",
    "                x=df11['Fls'],\n",
    "                hovertext=df11['Squad'],\n",
    "                orientation='h'),\n",
    "                row=1, col=2)\n",
    "\n",
    "fig.add_trace(go.Bar(\n",
    "                y=df12[\"Squad\"], \n",
    "                x=df12['Off'],\n",
    "                hovertext=df12['Squad'],\n",
    "                orientation='h'),\n",
    "                row=2, col=2)\n",
    "\n",
    "fig.add_trace(go.Bar(\n",
    "                y=df13[\"Squad\"], \n",
    "                x=df13['SoTA'],\n",
    "                hovertext=df13['Squad'],\n",
    "                orientation='h'),\n",
    "                row=3, col=2)\n",
    "\n",
    "fig.add_trace(go.Bar(\n",
    "                y=df14[\"Squad\"], \n",
    "                x=df14['Saves'],\n",
    "                hovertext=df14['Squad'],\n",
    "                orientation='h'),\n",
    "                row=4, col=2)\n",
    "\n",
    "fig.update_traces(marker_color= ['rgb(110,102,250)','rgb(210,202,82)','rgb(210,202,82)','rgb(210,202,82)',\n",
    "                                 'rgb(210,202,82)',], marker_line_color='rgb(8,48,107)',\n",
    "                  marker_line_width=2.5, opacity=0.6)\n",
    "fig.update_layout(title_text='<b> Top goalkeepers stat<b>', \n",
    "                  titlefont={'size':28},\n",
    "                  title_x=0.5,\n",
    "                  showlegend=False,\n",
    "                  autosize=False, \n",
    "                  width=1300, \n",
    "                  height=1200,\n",
    "                  template='ggplot2',\n",
    "                  paper_bgcolor='lightgray',\n",
    "                  #plot_bgcolor='lightgray',\n",
    "                 )\n",
    "fig.show()\n"
   ]
  },
  {
   "cell_type": "markdown",
   "metadata": {},
   "source": [
    "***\n",
    "### 2.3- ***Save Data***\n",
    "***"
   ]
  },
  {
   "cell_type": "code",
   "execution_count": null,
   "metadata": {},
   "outputs": [],
   "source": [
    "players = pd.read_csv('top_teemAll')\n",
    "print(players.shape)\n",
    "players.head()"
   ]
  },
  {
   "cell_type": "code",
   "execution_count": null,
   "metadata": {},
   "outputs": [],
   "source": [
    "pn5s = players[players.Squad.isin(top_teams.Squad.unique())].groupby(['Squad', 'year', \n",
    "                                                                      'Nation','Pos'], as_index=False)['Player'].count()\n",
    "\n",
    "def get_nationality_per_team(t):\n",
    "    df1 = pd.DataFrame(columns=['year','Nation' ,'Pos' , 'Player'])\n",
    "    rt = []\n",
    "    for y in pn5s.year.unique():\n",
    "        df = pn5s[(pn5s.Squad == t) & (pn5s.year == y)].drop('year', axis=1).groupby(['Nation','Pos'],as_index=False).sum()\n",
    "        df['year'] = y\n",
    "        ratio = df[df.Nation == 'KSA']['Player'].sum()/df.Player.sum()\n",
    "        rt.append(round(ratio,2))\n",
    "        df1 = df1.append(df, ignore_index=True)\n",
    "        \n",
    "    df3 = df1.groupby(['year','Nation'], as_index=False)['Player'].sum()\n",
    "\n",
    "    ah = sns.FacetGrid(df3, col='year', hue='Nation',col_wrap=2, size=4, aspect=1.5, palette=\"Spectral\");\n",
    "    ah.map(plt.bar,'Nation','Player');\n",
    "    ah.add_legend()\n",
    "\n",
    "    for ax in ah.axes.ravel():\n",
    "        for p in ax.patches:\n",
    "            ax.annotate(round(p.get_height()), (p.get_x() + p.get_width() / 2., p.get_height()), \n",
    "                        ha = 'center', va = 'center', xytext = (0, 10), textcoords = 'offset points')\n",
    "    ah.fig.subplots_adjust(top=0.9)        \n",
    "    ah.fig.suptitle('{} $Players$ Nationalities from 2014-2019'.format(t), fontsize=16)\n",
    "    \n",
    "    return df1, rt"
   ]
  },
  {
   "cell_type": "code",
   "execution_count": null,
   "metadata": {},
   "outputs": [],
   "source": [
    "top_teams14.head()"
   ]
  },
  {
   "cell_type": "code",
   "execution_count": null,
   "metadata": {},
   "outputs": [],
   "source": [
    "sota = top_teams14[['Squad','year','SoTA']]\n",
    "Saves = top_teams14[['Squad','year','Saves']]\n",
    "Savepc = top_teams14[['Squad','year','Save%']]\n",
    "cs = top_teams14[['Squad','year','CS']]\n",
    "cspc = top_teams14[['Squad','year','CS%']]\n",
    "pka = top_teams14[['Squad','year','PKA']]\n",
    "PKsv = top_teams14[['Squad','year','PKsv']]\n",
    "PKm = top_teams14[['Squad','year','PKm']]"
   ]
  },
  {
   "cell_type": "code",
   "execution_count": null,
   "metadata": {},
   "outputs": [],
   "source": [
    "# Extract data and join it in one data frame\n",
    "pk_df = (players[players.Squad.isin(top_teams.Squad.unique())]\n",
    ".groupby(['Squad','year'], as_index=False)['PK']\n",
    ".sum())\n",
    "\n",
    "# Minutes Played per team per year\n",
    "min_df = (players[players.Squad.isin(top_teams.Squad.unique())]\n",
    ".groupby(['Squad','year'], as_index=False)['Min']\n",
    ".sum())\n",
    "\n",
    "# Positions per team per year\n",
    "pos_df = (players[players.Squad.isin(top_teams.Squad.unique())]\n",
    " .groupby(['Squad','year','Pos'], as_index=False)['Player']\n",
    ".count())\n",
    "\n",
    "# Average age per team per year\n",
    "ag_df = (players[players.Squad.isin(top_teams.Squad.unique())]\n",
    ".groupby(['Squad','year'], as_index=False)['Age']\n",
    ".mean())\n",
    "\n",
    "# Extract data and join it in one data frame\n",
    "Ast_df = (players[players.Squad.isin(top_teams.Squad.unique())]\n",
    ".groupby(['Squad','year'], as_index=False)['Ast']\n",
    ".sum())\n",
    "\n",
    "# Extract data and join it in one data frame\n",
    "G_and_A_df = (players[players.Squad.isin(top_teams.Squad.unique())]\n",
    ".groupby(['Squad','year'], as_index=False)['G+A']\n",
    ".sum())\n",
    "\n",
    "# Extract data and join it in one data frame\n",
    "onG_df = (players[players.Squad.isin(top_teams.Squad.unique())]\n",
    ".groupby(['Squad','year'], as_index=False)['onG']\n",
    ".sum())\n",
    "\n",
    "# Number of Saudi and non-Saudi players per team per year\n",
    "pp = pd.DataFrame(columns=['year','Squad','KSA player','Non KSA player'])\n",
    "for t in top_teams.Squad.unique():\n",
    "    df, _ = get_nationality_per_team(t)\n",
    "    plt.close();\n",
    "    df = df.groupby(['year','Nation'], as_index=False)['Player'].sum()\n",
    "    ksap = df[df.Nation == 'KSA'][['year', 'Player']]\n",
    "    nksa = df[df.Nation != 'KSA'].groupby(['year'], as_index=False).sum()\n",
    "    for y in df.year.unique():\n",
    "        k1 = ksap[ksap.year==y]['Player'].values[0]\n",
    "        k2 = nksa[nksa.year==y]['Player'].values[0]\n",
    "        pp = pp.append({'year':y,'Squad':t,'KSA player':k1,'Non KSA player':k2}, ignore_index=True)\n",
    "\n",
    "# Join data\n",
    "top_teams[['Pk', 'Min', 'Age', 'n_FW', 'n_MF', 'n_DF', 'n_GK','n_S','n_nS','Ast','G+A','onG']] = pd.DataFrame([[0,0,0,0,0,0,0,0,0,0,0,0]], index=top_teams.index)\n",
    "df_new = pd.DataFrame(columns=top_teams.columns)\n",
    "for ind, row in top_teams.iterrows():\n",
    "    \n",
    "    t = row['Squad']\n",
    "    y = row['year']\n",
    "    row['Pk'] = pk_df[(pk_df.year == y) & (pk_df.Squad == t)]['PK']\n",
    "    row['Min'] = min_df[(min_df.year == y) & (min_df.Squad == t)]['Min']\n",
    "    row['Age'] =  ag_df[(ag_df.year == y) & (ag_df.Squad == t)]['Age']\n",
    "    row['n_FW'] =  pos_df[(pos_df.year == y) & (pos_df.Squad == t) & (pos_df.Pos == 'F')]['Player']\n",
    "    row['n_MF'] =  pos_df[(pos_df.year == y) & (pos_df.Squad == t) & (pos_df.Pos == 'M')]['Player']\n",
    "    row['n_DF'] =  pos_df[(pos_df.year == y) & (pos_df.Squad == t) & (pos_df.Pos == 'D')]['Player']\n",
    "    row['n_GK'] =  pos_df[(pos_df.year == y) & (pos_df.Squad == t) & (pos_df.Pos == 'G')]['Player']\n",
    "    row['n_S'] =  pp[(pp.year == y) & (pp.Squad == t)]['KSA player']\n",
    "    row['n_nS'] =  pp[(pp.year == y) & (pp.Squad == t)]['Non KSA player']\n",
    "    row['Ast'] =  Ast_df[(Ast_df.year == y) & (Ast_df.Squad == t)]['Ast']\n",
    "    row['G+A'] =  G_and_A_df[(G_and_A_df.year == y) & (G_and_A_df.Squad == t)]['G+A']\n",
    "    row['onG'] =  onG_df[(onG_df.year == y) & (onG_df.Squad == t)]['onG']\n",
    "    row['SoTA'] =  sota[(sota.year == y) & (sota.Squad == t)]['SoTA'].values[0]\n",
    "    row['Saves'] =  Saves[(Saves.year == y) & (Saves.Squad == t)]['Saves'].values[0]\n",
    "    row['CS'] =  cs[(cs.year == y) & (cs.Squad == t)]['CS'].values[0]\n",
    "    row['CS%'] =  cspc[(cspc.year == y) & (cspc.Squad == t)]['CS%'].values[0]\n",
    "    row['PKA'] =  pka[(pka.year == y) & (pka.Squad == t)]['PKA'].values[0]\n",
    "    row['PKsv'] =  PKsv[(PKsv.year == y) & (PKsv.Squad == t)]['PKsv'].values[0]\n",
    "    row['PKm'] =  PKm[(PKm.year == y) & (PKm.Squad == t)]['PKm'].values[0]\n",
    "    df_new = df_new.append(row, ignore_index=True)\n",
    "    \n",
    "df_new.head()"
   ]
  },
  {
   "cell_type": "code",
   "execution_count": null,
   "metadata": {},
   "outputs": [],
   "source": [
    "pk_df"
   ]
  },
  {
   "cell_type": "code",
   "execution_count": null,
   "metadata": {},
   "outputs": [],
   "source": [
    "top_teams18.head(3)"
   ]
  },
  {
   "cell_type": "code",
   "execution_count": null,
   "metadata": {},
   "outputs": [],
   "source": [
    "#  Drop unnecessary columns\n",
    "data = df_new.copy()\n",
    "data.drop(['Goalkeeper', 'Top Team Scorer', 'Scorer Goals'],axis=1, inplace=True)\n",
    "data.head()"
   ]
  },
  {
   "cell_type": "code",
   "execution_count": null,
   "metadata": {},
   "outputs": [],
   "source": [
    "print(data.shape)\n",
    "data.columns"
   ]
  },
  {
   "cell_type": "code",
   "execution_count": null,
   "metadata": {},
   "outputs": [],
   "source": [
    "#  Change data type for columns\n",
    "convert_dict = {'year':int, 'Rk':int, 'MP':int, 'W':int, 'D':int, 'L':int, 'GF':int, 'GA':int, 'GDiff':int, 'Pts':int,\n",
    "       'Pts/Mp':int, 'W-H':int, 'D-H':int, 'L-H':int, 'GF-H':int, 'GA-H':int, 'GD-H':int, 'Pts-H':int,'Pts/MP-H':int,'MP-A':int,\n",
    "         'W-A':int, 'D-A':int, 'L-A':int, 'GF-A':int,'GA-A':int, 'GD-A':int,'Pts-A':int, 'Pts/MP-A':int,'Attendance':int, 'Pk':int,\n",
    "         'Min':int, 'Age':int, 'n_FW':int, 'n_MF':int, 'n_DF':int, 'n_GK':int,'n_S':int,'n_nS':int, 'Ast':int, 'G+A':int, 'onG':int, \n",
    "           'CS':int, 'CS%':int, 'PKA':int,'PKm':int, 'PKsv':int, 'Saves':int, 'SoTA':int} \n",
    "  \n",
    "data = data.astype(convert_dict) \n",
    "data.info()"
   ]
  },
  {
   "cell_type": "code",
   "execution_count": null,
   "metadata": {},
   "outputs": [],
   "source": [
    "data.to_csv('cleaned.csv', index=False)"
   ]
  },
  {
   "cell_type": "code",
   "execution_count": null,
   "metadata": {},
   "outputs": [],
   "source": [
    "top_teams18.to_csv('cleaned18', index=False)"
   ]
  },
  {
   "cell_type": "markdown",
   "metadata": {},
   "source": [
    "## ***Players***"
   ]
  },
  {
   "cell_type": "markdown",
   "metadata": {},
   "source": [
    "***\n",
    "### 2.1- ***Load Data***\n",
    "***"
   ]
  },
  {
   "cell_type": "code",
   "execution_count": null,
   "metadata": {},
   "outputs": [],
   "source": [
    "p14 = pd.read_csv('p_period 14-21')\n",
    "p18 = pd.read_csv('p_period 18-21')\n",
    "gk = pd.read_csv('goolkeepars')\n",
    "gk21 = gk[gk['year'] == 2021]\n",
    "p14.drop('index', axis=1, inplace=True)\n",
    "p18.drop('index', axis=1, inplace=True)\n"
   ]
  },
  {
   "cell_type": "markdown",
   "metadata": {},
   "source": [
    "***\n",
    "### 2.2- ***Exploratory Analysis***\n",
    "***"
   ]
  },
  {
   "cell_type": "markdown",
   "metadata": {},
   "source": [
    "### EDA on Saudi Professional League players Statistics\n",
    "#### Objectives:\n",
    "Exploratory data anlysis on Saudi Professional League players stats dataset.\n",
    "Learn and apply data visualizatiosn techniques using plotly's data visualization library.\n",
    "1. Introduction\n",
    "\n",
    "The Saudi Professional League, also known as the SPL League is the top division of association football in the Saudi Arabian league system. From 2013 to 2019, it was known as the Abdul Latif Jameel League, or Dawry Jameel, as it was sponsored by Abdul Latif Jameel.\n",
    "The first season of competition was the 1976–77 season, Al Hilal is the most successful team, holding 18 titles in its history and most recently winning the title in 2021–22.\n",
    "\n",
    " 1.1 The Saudi League"
   ]
  },
  {
   "cell_type": "code",
   "execution_count": null,
   "metadata": {},
   "outputs": [],
   "source": [
    "print(p14.shape)\n",
    "p14.head(2)"
   ]
  },
  {
   "cell_type": "code",
   "execution_count": null,
   "metadata": {},
   "outputs": [],
   "source": [
    "p18 = p18.drop(['90s.1','Gls.2','PK.1','PKatt.1','Born.1','MP.1','90s.2'], axis=1)\n",
    "p21 = p18[p18['year'] == 2021]\n",
    "print(p18.shape)\n",
    "p18.head(2)\n"
   ]
  },
  {
   "cell_type": "code",
   "execution_count": null,
   "metadata": {},
   "outputs": [],
   "source": [
    "print(gk.shape)\n",
    "gk.head(2)"
   ]
  },
  {
   "cell_type": "markdown",
   "metadata": {},
   "source": [
    "***\n",
    "#### ***General Exploration***\n",
    "- period 18-21\n",
    "- period 18-21\n",
    "- goolkeepars stats\n",
    "***"
   ]
  },
  {
   "cell_type": "markdown",
   "metadata": {},
   "source": [
    "## Nation and postion\n",
    "\n",
    "I) Countries most represented in the EPL:\n",
    "\n",
    "In any league it is normal to have more home-grown players than foreign palyers and the SPL is no different.\n",
    "\n",
    "summary :\n",
    "- Overall: 1st BRA, 2nd MAR, 3rd ALG\n",
    "- Goalkeepers: 1st ALG, 2nd BOR, 3rd AUS\n",
    "- Defenders: 1st BRA, 2nd ALG, 3rd EGY\n",
    "- Midfielders: 1st BRA, 2nd MAR, 3rd TUN\n",
    "- Forwards: 1st BRA, 2nd MAR, 3rd SYR"
   ]
  },
  {
   "cell_type": "code",
   "execution_count": null,
   "metadata": {},
   "outputs": [],
   "source": [
    "fig = px.pie(p14,\n",
    "             values='MP',\n",
    "             names='Nation',template='plotly_white',\n",
    "             title='Countries represented in the PSL by number of appearances',\n",
    "             )\n",
    "fig.update_traces(textposition='inside', textinfo='percent+label')\n",
    "fig.update_layout(title_text='<b> Nr. of MP per country <b>', \n",
    "                  title_x=0.5, \n",
    "                  titlefont=dict(color='black', \n",
    "                            size=28, \n",
    "                            family=\"Courier New, monospace\",),\n",
    "                  width=600,\n",
    "                  height=600,\n",
    "                  showlegend=False,\n",
    "                 )\n",
    "fig.show()"
   ]
  },
  {
   "cell_type": "code",
   "execution_count": null,
   "metadata": {},
   "outputs": [],
   "source": [
    "fig = px.sunburst(p14, \n",
    "                   path=['Pos', 'Nation'], \n",
    "                   values='MP', template='plotly_white',\n",
    "                 )\n",
    "fig.update_layout(title_text='<b>Players position by country <b>', \n",
    "                  title_x=0.5, \n",
    "                  titlefont=dict(color='black', \n",
    "                            size=28, \n",
    "                            family=\"Courier New, monospace\",),\n",
    "                  width=600,\n",
    "                  height=600,\n",
    "                  showlegend=False,\n",
    "                \n",
    "                 )\n",
    "fig.show()"
   ]
  },
  {
   "cell_type": "code",
   "execution_count": null,
   "metadata": {},
   "outputs": [],
   "source": [
    "df = p18.groupby(['Player','Squad','Pos'])['MP'].sum().reset_index()"
   ]
  },
  {
   "cell_type": "markdown",
   "metadata": {},
   "source": [
    "II) Players Appearances (nr. games):\n",
    "\n",
    "Longevity, versatility, quality of the player & the squad and playing position are major factors for number of appearances.\n",
    "\n",
    "Most of the appearances come from defence and midfield position. No surprise here. If the most common line-ups/systems (4-4-2, 4-5-1, 3-5-2, 4-3-3) are averaged they would look like in the graph below. Usually midfielders are versatile and can play in defence or in attack if needed. So they constitute the majority of a given squad.\n",
    "\n",
    "Summary most appearances\n",
    "Goalkeeper: Cassio, 115\n",
    "Defender: Igor Rossi, 108\n",
    "Midfielder: [Mhammed AlFuhaid, Sultan Fahran], 109\n",
    "Forward: Bafetimbi Gomis, 106"
   ]
  },
  {
   "cell_type": "code",
   "execution_count": null,
   "metadata": {},
   "outputs": [],
   "source": [
    "fig = px.bar(df, x=\"Pos\", y=\"MP\",color='Squad',\n",
    "             hover_data=[\"Player\"],\n",
    "             width=750, height=600,)\n",
    "fig.update_layout(\n",
    "             template='plotly_dark',\n",
    "             title='<b>Players appearance by position<b>',\n",
    "             titlefont={'size':24})\n",
    "fig.show()"
   ]
  },
  {
   "cell_type": "code",
   "execution_count": null,
   "metadata": {},
   "outputs": [],
   "source": [
    "fig = px.bar(p18, y=\"Squad\", x=\"MP\",color='Pos',\n",
    "             hover_data=[\"Player\"],\n",
    "             width=750, \n",
    "             height=600,\n",
    "             )\n",
    "fig.update_layout(\n",
    "             template='plotly_dark',\n",
    "             title='<b>Appearance by club<b>',\n",
    "             titlefont={'size':24},\n",
    ")\n",
    "fig.show()"
   ]
  },
  {
   "cell_type": "markdown",
   "metadata": {},
   "source": [
    "## Age\n",
    "\n",
    "Goalkeepers and defender are relatively older than thier mid-field and attacking colleagues. The defence line (including goalkeepers) is widely regarded as the area where more of a wise-head/cool-headed than a lightning fast leg is need. No harm if a defender is fast, there are many of them. But most defenders mature with age. Being an older defender is not a bad thing.\n",
    "\n",
    "Summary:\n",
    "\n",
    "The yougest squad is AlFateh\n",
    "AlFayha are the oldest group of players\n",
    "The min, median and max ages are 16, 26.8 and 40 years\n",
    "\n"
   ]
  },
  {
   "cell_type": "code",
   "execution_count": null,
   "metadata": {},
   "outputs": [],
   "source": [
    "age_avg = p18['Age'].mean()\n",
    "df = p18[p18['year'] == 2021]\n",
    "\n",
    "fig = px.violin(p18, y=\"Age\", x=\"Pos\", box=True,\n",
    "                title='<b> Players Age distribution by position (avg. age dotted line)<b>',\n",
    "                width=600,height=400,template='simple_white')\n",
    "fig.add_shape( \n",
    "    type=\"line\", line_color=\"blue\", line_width=3, opacity=1, line_dash=\"dot\",\n",
    "    x0=0, x1=1, xref=\"paper\", y0=age_avg, y1=age_avg, yref=\"y\"\n",
    ")\n",
    "iplot(fig)\n",
    "\n",
    "fig = px.box(p18, y=\"Squad\", x=\"Age\",\n",
    "            title='<b>Players Age distribution by club (avg. age dotted line)<b>',\n",
    "            width=750,height=750,template='simple_white')\n",
    "fig.add_shape( \n",
    "    type=\"line\", line_color=\"black\", line_width=3, opacity=1, line_dash=\"dot\",\n",
    "    y0=0, y1=1, yref=\"paper\", x0=age_avg, x1=age_avg, xref=\"x\"\n",
    ")\n",
    "iplot(fig)\n",
    "\n",
    "fig = px.box(df, y=\"Squad\", x=\"Age\",\n",
    "            title='<b>Players Age distribution by club in 2021 (avg. age dotted line)<b>',\n",
    "            width=750,height=750,template='simple_white')\n",
    "fig.add_shape( \n",
    "    type=\"line\", line_color=\"black\", line_width=3, opacity=1, line_dash=\"dot\",\n",
    "    y0=0, y1=1, yref=\"paper\", x0=age_avg, x1=age_avg, xref=\"x\"\n",
    ")"
   ]
  },
  {
   "cell_type": "markdown",
   "metadata": {},
   "source": [
    "## Players Stats By Playing Position"
   ]
  },
  {
   "cell_type": "markdown",
   "metadata": {},
   "source": [
    "## Goalkeepers\n",
    "\n",
    "One of the key stats for goalkeepers is the much coveted clean sheet (conceeding zero goals in a game). Although this stat is not entierly dependent on the performance/ability of the goalkeeper only (a solid defence-line infront of a goalkeeper always helps), this metric shows how good a goal keeper is. Other important qualities of a goalkeeper are:\n",
    "\n",
    "- Clean sheets\n",
    "- Saves\n",
    "- Penalties saved\n",
    "- Punches\n",
    "- High Claims\n",
    "- Catches"
   ]
  },
  {
   "cell_type": "code",
   "execution_count": null,
   "metadata": {},
   "outputs": [],
   "source": [
    "\n",
    "gk21.head(3)"
   ]
  },
  {
   "cell_type": "code",
   "execution_count": null,
   "metadata": {},
   "outputs": [],
   "source": [
    "\n",
    "head = 5\n",
    "df1=gk21.sort_values(by='CS', ascending=False).head(head)\n",
    "df2=gk21.sort_values(by='Saves', ascending=False).head(head)\n",
    "df3=gk21.sort_values(by='GA', ascending=False).head(head)\n",
    "df4=gk21.sort_values(by='PKsv', ascending=False).head(head)\n",
    "\n",
    "df11=gk21.sort_values(by='CS%', ascending=False).head(head)\n",
    "df12=gk21.sort_values(by='Save%', ascending=False).head(head)\n",
    "df13=gk21.sort_values(by='GA90', ascending=False).head(head)\n",
    "df14=gk21.sort_values(by='PKatt', ascending=False).head(head)\n",
    "\n",
    "fig = make_subplots(\n",
    "    rows=4, cols=2,\n",
    "    subplot_titles=('Clean sheets', 'Clean sheets pc','Saves','Saves pc',\n",
    "                    'Gool Ag', 'Gool Ag90','PKsv', 'PKatt'),\n",
    "    horizontal_spacing = 0.12,\n",
    "    vertical_spacing = 0.075)\n",
    "\n",
    "fig.add_trace(go.Bar(\n",
    "                y=df1[\"Player\"], \n",
    "                x=df1['CS'],\n",
    "                hovertext=df1['Squad'],\n",
    "                orientation='h'),\n",
    "                row=1, col=1)\n",
    "\n",
    "fig.add_trace(go.Bar(\n",
    "                y=df2[\"Player\"], \n",
    "                x=df2['Saves'],\n",
    "                hovertext=df2['Squad'],\n",
    "                orientation='h'),\n",
    "                row=2, col=1)\n",
    "\n",
    "fig.add_trace(go.Bar(\n",
    "                y=df3[\"Player\"], \n",
    "                x=df3['GA'],\n",
    "                hovertext=df3['Squad'],\n",
    "                orientation='h'),\n",
    "                row=3, col=1)\n",
    "\n",
    "fig.add_trace(go.Bar(\n",
    "                y=df4[\"Player\"], \n",
    "                x=df4['PKsv'],\n",
    "                hovertext=df4['Squad'],\n",
    "                orientation='h'),\n",
    "                row=4, col=1)\n",
    "\n",
    "\n",
    "fig.add_trace(go.Bar(\n",
    "                y=df11[\"Player\"], \n",
    "                x=df11['CS%'],\n",
    "                hovertext=df11['Squad'],\n",
    "                orientation='h'),\n",
    "                row=1, col=2)\n",
    "\n",
    "fig.add_trace(go.Bar(\n",
    "                y=df12[\"Player\"], \n",
    "                x=df12['Save%'],\n",
    "                hovertext=df12['Squad'],\n",
    "                orientation='h'),\n",
    "                row=2, col=2)\n",
    "\n",
    "fig.add_trace(go.Bar(\n",
    "                y=df13[\"Player\"], \n",
    "                x=df13['GA90'],\n",
    "                hovertext=df13['Squad'],\n",
    "                orientation='h'),\n",
    "                row=3, col=2)\n",
    "\n",
    "fig.add_trace(go.Bar(\n",
    "                y=df14[\"Player\"], \n",
    "                x=df14['PKatt'],\n",
    "                hovertext=df14['Squad'],\n",
    "                orientation='h'),\n",
    "                row=4, col=2)\n",
    "\n",
    "fig.update_traces(marker_color= ['rgb(110,102,250)','rgb(210,202,82)','rgb(210,202,82)','rgb(210,202,82)',\n",
    "                                 'rgb(210,202,82)',], marker_line_color='rgb(8,48,107)',\n",
    "                  marker_line_width=2.5, opacity=0.6)\n",
    "fig.update_layout(title_text='<b> Top goalkeepers state<b>', \n",
    "                  titlefont={'size':28},\n",
    "                  title_x=0.5,\n",
    "                  showlegend=False,\n",
    "                  autosize=False, \n",
    "                  width=1300, \n",
    "                  height=1200,\n",
    "                  template='ggplot2',\n",
    "                  paper_bgcolor='lightgray',\n",
    "                  #plot_bgcolor='lightgray',\n",
    "                 )\n",
    "fig.show()"
   ]
  },
  {
   "cell_type": "code",
   "execution_count": null,
   "metadata": {},
   "outputs": [],
   "source": [
    "fig = px.sunburst(gk, \n",
    "                   path=['Squad', 'Nation'], \n",
    "                   values='MP', template='plotly_white',\n",
    "                 )\n",
    "fig.update_layout(title_text='<b>Players Appearance by country <b>', \n",
    "                  title_x=0.5, \n",
    "                  titlefont=dict(color='black', \n",
    "                            size=28, \n",
    "                            family=\"Courier New, monospace\",),\n",
    "                  width=600,\n",
    "                  height=600,\n",
    "                  showlegend=False,\n",
    "                \n",
    "                 )\n",
    "fig.show()\n",
    "\n",
    "fig = px.sunburst(gk21, \n",
    "                   path=['Squad', 'Nation'], \n",
    "                   values='MP', template='plotly_white',\n",
    "                 )\n",
    "fig.update_layout(title_text='<b>Goolkeepers Appearance by country in 2021<b>', \n",
    "                  title_x=0.5, \n",
    "                  titlefont=dict(color='black', \n",
    "                            size=22, \n",
    "                            family=\"Courier New, monospace\",),\n",
    "                  width=600,\n",
    "                  height=600,\n",
    "                  showlegend=False,\n",
    "                \n",
    "                 )\n",
    "fig.show()"
   ]
  },
  {
   "cell_type": "markdown",
   "metadata": {},
   "source": [
    "## Defenders\n",
    "In a game of footall (in fact in any game where a draw is possible) if you can not win the game then do not lose it. That means defend well and do not concede a goal. For that to happen derenders play a huge part. Good defenders are able to read the game very well and sense where the danger is in time. They know when to join the party (attacking) or sit back and defend. Although they are rare to find, there are defenders who can do more than their own job by assisting goals and scoring themselves as well. Let's see who are the best defenders at doing their job and who are contributing more than they are needed to.\n",
    "\n",
    "Extra info: Most expensive defender in the EPL:\n",
    "\n",
    "Harry Maguire (Leicester City to Manchester United) - €87million\n",
    "Virgil van Dijk (Southampton to Liverpool) - €84.65 million\n",
    "Joao Cancelo (Juventus to Manchester City) - €65 million\n",
    "Contrary to the transfer fees, big Virgil is the best defender in the list, if not in the world (of course my opinion)"
   ]
  },
  {
   "cell_type": "code",
   "execution_count": null,
   "metadata": {},
   "outputs": [],
   "source": [
    "df21 = p21[p21['Pos'] == 'D']\n",
    "df21.head(3)"
   ]
  },
  {
   "cell_type": "code",
   "execution_count": null,
   "metadata": {},
   "outputs": [],
   "source": [
    "defenders_attr =['Gls', 'CrdY','G+A', 'onGA','Int','90s','CrdR', 'onG','+/-90', 'TklW']\n",
    "# top=5\n",
    "# defenders_attr =['Tackles', 'Tackle success'Interceptions' %', 'Last man tackles', 'Blocked shots', 'Interceptions', 'Clearances',\n",
    "#                  'Headed Clearance', 'Clearances off line', 'Recoveries', 'Duels won','Successful 50/50s', 'Aerial battles won'] \n",
    "# for atr in defenders_attr:\n",
    "#     text = 5\n",
    "#     df = data_38app[data_38app[\"Position\"] == 'Defender'].sort_values(by=atr, ascending=False).head(top)\n",
    "#     fig = px.bar(df, x=\"Name\", \n",
    "#                  y=atr,\n",
    "#                  color='Club',\n",
    "#                  hover_name=None,\n",
    "#                  title=\"Defender defensive ability: Top {} {} \".format(text, atr.lower()))\n",
    "#     fig.update_layout(autosize=False, width=1000, height=500)\n",
    "#     iplot(fig)\n",
    "\n",
    "\n",
    "top = 5\n",
    "fig = make_subplots(\n",
    "    rows=5, cols=2,\n",
    "    horizontal_spacing = 0.05, \n",
    "    vertical_spacing = 0.075, \n",
    "    subplot_titles=('Gls', 'onG','90s', 'onGA','Int','+/-90','CrdY', 'G+A','CrdR', 'TklW'),\n",
    "    )\n",
    "\n",
    "\n",
    "df = df21.sort_values(by='Gls', ascending=False).head(top)\n",
    "fig.add_trace(go.Bar(x=df[\"Player\"], \n",
    "             y=df['Gls'],\n",
    "             #color='Club',\n",
    "             #hover_name=None,\n",
    "             orientation='v'),\n",
    "             row=1, col=1)\n",
    "\n",
    "df = df21.sort_values(by='onG', ascending=False).head(top)\n",
    "fig.add_trace(go.Bar( x=df[\"Player\"], \n",
    "             y=df['onG'],\n",
    "             #color='Club',\n",
    "             #hover_name=None,\n",
    "             orientation='v'),\n",
    "             row=1, col=2)\n",
    "\n",
    "df = df21.sort_values(by='90s', ascending=False).head(top)\n",
    "fig.add_trace(go.Bar(x=df[\"Player\"], \n",
    "             y=df['90s'],\n",
    "             #color='Club',\n",
    "             #hover_name=None,\n",
    "             orientation='v'),\n",
    "             row=2, col=1)  \n",
    "\n",
    "df = df21.sort_values(by='onGA', ascending=False).head(top)\n",
    "fig.add_trace(go.Bar( x=df[\"Player\"], \n",
    "             y=df['onGA'],\n",
    "             #color='Club',\n",
    "             #hover_name=None,\n",
    "             orientation='v'),\n",
    "             row=2, col=2)\n",
    "\n",
    "df = df21.sort_values(by='Int', ascending=False).head(top)\n",
    "fig.add_trace(go.Bar(x=df[\"Player\"], \n",
    "             y=df['Int'],\n",
    "             #color='Club',\n",
    "            #hover_name=None,\n",
    "             orientation='v'),\n",
    "             row=3, col=1)\n",
    "\n",
    "df = df21.sort_values(by='+/-90', ascending=False).head(top)\n",
    "fig.add_trace(go.Bar(x=df[\"Player\"], \n",
    "             y=df['+/-90'],\n",
    "             #color='Club',\n",
    "             #hover_name=None,\n",
    "             orientation='v'),\n",
    "             row=3, col=2)\n",
    "\n",
    "df = df21.sort_values(by='CrdY', ascending=False).head(top)\n",
    "fig.add_trace(go.Bar(x=df[\"Player\"], \n",
    "             y=df['CrdY'],\n",
    "             #color='Club',\n",
    "             #hover_name=None,\n",
    "             orientation='v'),\n",
    "             row=4,col=1)\n",
    "             \n",
    "df = df21.sort_values(by='G+A', ascending=False).head(top)\n",
    "fig.add_trace(go.Bar( x=df[\"Player\"], \n",
    "             y=df['G+A'],\n",
    "             #color='Club',\n",
    "             #hover_name=None,\n",
    "             orientation='v'),\n",
    "             row=4,col=2)\n",
    "\n",
    "df = df21.sort_values(by='CrdR', ascending=False).head(top)\n",
    "fig.add_trace(go.Bar( x=df[\"Player\"], \n",
    "             y=df['CrdR'],\n",
    "             #color='Club',\n",
    "             #hover_name=None,\n",
    "             orientation='v'),\n",
    "             row=5, col=1)\n",
    "\n",
    "df = df21.sort_values(by='TklW', ascending=False).head(top)\n",
    "fig.add_trace(go.Bar( x=df[\"Player\"], \n",
    "             y=df['TklW'],\n",
    "             #color='Club',\n",
    "             #hover_name=None),\n",
    "             orientation='v'),\n",
    "             row=5, col=2)\n",
    "\n",
    "#fig.update_layout(title_text='Top Defender Qualities', title_x=0.5)\n",
    "fig.update_traces(marker_color= ['rgb(96, 96, 96)','rgb(210,202,82)','rgb(210,202,82)','rgb(210,202,82)',\n",
    "                                 'rgb(210,202,82)', 'rgb(210,202,82)'], marker_line_color='rgb(8,48,107)',\n",
    "                  marker_line_width=2.5, opacity=0.6)\n",
    "\n",
    "fig.update_layout(title_text='<b>Top Defender Qualities<b>', \n",
    "                  titlefont={'size':28},\n",
    "                  title_x=0.5,\n",
    "                  showlegend=False,\n",
    "                  autosize=False, \n",
    "                  width=1300, \n",
    "                  height=1500,\n",
    "                  template='ggplot2',\n",
    "                  paper_bgcolor='lightgray')\n",
    "fig.show()"
   ]
  },
  {
   "cell_type": "markdown",
   "metadata": {},
   "source": [
    "## Midfielders\n",
    "As it's often called mid-field is the engine-room of a football team. Mid-fielders dictate the tempo of the game, they help their attacking or defending team mates depending on the situation of their team is in. Their ability to thread in an incisive pass or their awarness to sense danger before their defending colleagues are in trouble are crucial qualities of a good mid-fielder. All great teams past and present had/have a couple world-class mid-fielders in them. Below some of these attributes are summerized"
   ]
  },
  {
   "cell_type": "code",
   "execution_count": null,
   "metadata": {},
   "outputs": [],
   "source": [
    "mf21 = p21[p21['Pos'] == 'M']\n",
    "mf21.head(3)"
   ]
  },
  {
   "cell_type": "code",
   "execution_count": null,
   "metadata": {},
   "outputs": [],
   "source": [
    "top = 5\n",
    "fig = make_subplots(\n",
    "    rows=5, cols=2,\n",
    "    horizontal_spacing = 0.05, \n",
    "    vertical_spacing = 0.075, \n",
    "    subplot_titles=('Gls', 'Ast','G+A','SoT%','G/Sh','G/SoT','90s','+/-90', 'onG', 'onGA'),\n",
    "    )\n",
    "\n",
    "\n",
    "df = mf21.sort_values(by='Gls', ascending=False).head(top)\n",
    "fig.add_trace(go.Bar(x=df[\"Player\"], \n",
    "             y=df['Gls'],\n",
    "             #color='Club',\n",
    "             #hover_name=None,\n",
    "             orientation='v'),\n",
    "             row=1, col=1)\n",
    "\n",
    "df = mf21.sort_values(by='Ast', ascending=False).head(top)\n",
    "fig.add_trace(go.Bar( x=df[\"Player\"], \n",
    "             y=df['Ast'],\n",
    "             #color='Club',\n",
    "             #hover_name=None,\n",
    "             orientation='v'),\n",
    "             row=1, col=2)\n",
    "\n",
    "df = mf21.sort_values(by='G+A', ascending=False).head(top)\n",
    "fig.add_trace(go.Bar(x=df[\"Player\"], \n",
    "             y=df['G+A'],\n",
    "             #color='Club',\n",
    "             #hover_name=None,\n",
    "             orientation='v'),\n",
    "             row=2, col=1)  \n",
    "\n",
    "df = mf21.sort_values(by='SoT%', ascending=False).head(top)\n",
    "fig.add_trace(go.Bar( x=df[\"Player\"], \n",
    "             y=df['SoT%'],\n",
    "             #color='Club',\n",
    "             #hover_name=None,\n",
    "             orientation='v'),\n",
    "             row=2, col=2)\n",
    "\n",
    "df = mf21.sort_values(by='G/Sh', ascending=False).head(top)\n",
    "fig.add_trace(go.Bar(x=df[\"Player\"], \n",
    "             y=df['G/Sh'],\n",
    "             #color='Club',\n",
    "            #hover_name=None,\n",
    "             orientation='v'),\n",
    "             row=3, col=1)\n",
    "\n",
    "df = mf21.sort_values(by='G/SoT', ascending=False).head(top)\n",
    "fig.add_trace(go.Bar(x=df[\"Player\"], \n",
    "             y=df['G/SoT'],\n",
    "             #color='Club',\n",
    "             #hover_name=None,\n",
    "             orientation='v'),\n",
    "             row=3, col=2)\n",
    "\n",
    "df = mf21.sort_values(by='90s', ascending=False).head(top)\n",
    "fig.add_trace(go.Bar(x=df[\"Player\"], \n",
    "             y=df['90s'],\n",
    "             #color='Club',\n",
    "             #hover_name=None,\n",
    "             orientation='v'),\n",
    "             row=4,col=1)\n",
    "             \n",
    "df = mf21.sort_values(by='+/-90', ascending=False).head(top)\n",
    "fig.add_trace(go.Bar( x=df[\"Player\"], \n",
    "             y=df['+/-90'],\n",
    "             #color='Club',\n",
    "             #hover_name=None,\n",
    "             orientation='v'),\n",
    "             row=4,col=2)\n",
    "\n",
    "df = mf21.sort_values(by='onG', ascending=False).head(top)\n",
    "fig.add_trace(go.Bar( x=df[\"Player\"], \n",
    "             y=df['onG'],\n",
    "             #color='Club',\n",
    "             #hover_name=None,\n",
    "             orientation='v'),\n",
    "             row=5, col=1)\n",
    "\n",
    "df = mf21.sort_values(by='onGA', ascending=False).head(top)\n",
    "fig.add_trace(go.Bar( x=df[\"Player\"], \n",
    "             y=df['onGA'],\n",
    "             #color='Club',\n",
    "             #hover_name=None),\n",
    "             orientation='v'),\n",
    "             row=5, col=2)\n",
    "\n",
    "#fig.update_layout(title_text='Top Defender Qualities', title_x=0.5)\n",
    "fig.update_traces(marker_color= ['rgb(96, 96, 96)','rgb(210,202,82)','rgb(210,202,82)','rgb(210,202,82)',\n",
    "                                 'rgb(210,202,82)', 'rgb(210,202,82)'], marker_line_color='rgb(8,48,107)',\n",
    "                  marker_line_width=2.5, opacity=0.6)\n",
    "\n",
    "fig.update_layout(title_text='<b>Top Midfielder Qualities<b>', \n",
    "                  titlefont={'size':28},\n",
    "                  title_x=0.5,\n",
    "                  showlegend=False,\n",
    "                  autosize=False, \n",
    "                  width=1300, \n",
    "                  height=1500,\n",
    "                  template='ggplot2',\n",
    "                  paper_bgcolor='lightgray')\n",
    "fig.show()"
   ]
  },
  {
   "cell_type": "code",
   "execution_count": null,
   "metadata": {},
   "outputs": [],
   "source": [
    "\n",
    "top = 5\n",
    "fig = make_subplots(\n",
    "    rows=5, cols=2,\n",
    "    horizontal_spacing = 0.05, \n",
    "    vertical_spacing = 0.075, \n",
    "    subplot_titles=('Mn/Sub', 'PPM','On-Off', 'Off','Fls','Crs','CrdY', 'CrdR','Int', 'TklW'),\n",
    "    )\n",
    "\n",
    "\n",
    "df = mf21.sort_values(by='Mn/Sub', ascending=False).head(top)\n",
    "fig.add_trace(go.Bar(x=df[\"Player\"], \n",
    "             y=df['Mn/Sub'],\n",
    "             #color='Club',\n",
    "             #hover_name=None,\n",
    "             orientation='v'),\n",
    "             row=1, col=1)\n",
    "\n",
    "df = mf21.sort_values(by='PPM', ascending=False).head(top)\n",
    "fig.add_trace(go.Bar( x=df[\"Player\"], \n",
    "             y=df['PPM'],\n",
    "             #color='Club',\n",
    "             #hover_name=None,\n",
    "             orientation='v'),\n",
    "             row=1, col=2)\n",
    "\n",
    "df = df21.sort_values(by='On-Off', ascending=False).head(top)\n",
    "fig.add_trace(go.Bar(x=df[\"Player\"], \n",
    "             y=df['On-Off'],\n",
    "             #color='Club',\n",
    "             #hover_name=None,\n",
    "             orientation='v'),\n",
    "             row=2, col=1)  \n",
    "\n",
    "df = mf21.sort_values(by='Off', ascending=False).head(top)\n",
    "fig.add_trace(go.Bar( x=df[\"Player\"], \n",
    "             y=df['Off'],\n",
    "             #color='Club',\n",
    "             #hover_name=None,\n",
    "             orientation='v'),\n",
    "             row=2, col=2)\n",
    "\n",
    "df = mf21.sort_values(by='Fls', ascending=False).head(top)\n",
    "fig.add_trace(go.Bar(x=df[\"Player\"], \n",
    "             y=df['Fls'],\n",
    "             #color='Club',\n",
    "            #hover_name=None,\n",
    "             orientation='v'),\n",
    "             row=3, col=1)\n",
    "\n",
    "df = mf21.sort_values(by='Crs', ascending=False).head(top)\n",
    "fig.add_trace(go.Bar(x=df[\"Player\"], \n",
    "             y=df['Crs'],\n",
    "             #color='Club',\n",
    "             #hover_name=None,\n",
    "             orientation='v'),\n",
    "             row=3, col=2)\n",
    "\n",
    "df = mf21.sort_values(by='CrdY', ascending=False).head(top)\n",
    "fig.add_trace(go.Bar(x=df[\"Player\"], \n",
    "             y=df['CrdY'],\n",
    "             #color='Club',\n",
    "             #hover_name=None,\n",
    "             orientation='v'),\n",
    "             row=4,col=1)\n",
    "             \n",
    "df = mf21.sort_values(by='CrdR', ascending=False).head(top)\n",
    "fig.add_trace(go.Bar( x=df[\"Player\"], \n",
    "             y=df['CrdR'],\n",
    "             #color='Club',\n",
    "             #hover_name=None,\n",
    "             orientation='v'),\n",
    "             row=4,col=2)\n",
    "\n",
    "df = mf21.sort_values(by='Int', ascending=False).head(top)\n",
    "fig.add_trace(go.Bar( x=df[\"Player\"], \n",
    "             y=df['Int'],\n",
    "             #color='Club',\n",
    "             #hover_name=None,\n",
    "             orientation='v'),\n",
    "             row=5, col=1)\n",
    "\n",
    "df = mf21.sort_values(by='TklW', ascending=False).head(top)\n",
    "fig.add_trace(go.Bar( x=df[\"Player\"], \n",
    "             y=df['TklW'],\n",
    "             #color='Club',\n",
    "             #hover_name=None),\n",
    "             orientation='v'),\n",
    "             row=5, col=2)\n",
    "\n",
    "#fig.update_layout(title_text='Top Defender Qualities', title_x=0.5)\n",
    "fig.update_traces(marker_color= ['rgb(96, 96, 96)','rgb(210,202,82)','rgb(210,202,82)','rgb(210,202,82)',\n",
    "                                 'rgb(210,202,82)', 'rgb(210,202,82)'], marker_line_color='rgb(8,48,107)',\n",
    "                  marker_line_width=2.5, opacity=0.6)\n",
    "\n",
    "fig.update_layout(title_text='<b>Top Midfielder Qualities<b>', \n",
    "                  titlefont={'size':28},\n",
    "                  title_x=0.5,\n",
    "                  showlegend=False,\n",
    "                  autosize=False, \n",
    "                  width=1300, \n",
    "                  height=1500,\n",
    "                  template='ggplot2',\n",
    "                  paper_bgcolor='lightgray')\n",
    "fig.show()"
   ]
  },
  {
   "cell_type": "markdown",
   "metadata": {},
   "source": [
    "## Forwards\n",
    "Goals, goals and goals:\n",
    "Winning a game is the ultimate goal of the beautiful game. Scoring more goals that your opponent will do just that. We all watch football and enjoy when the team we support or our favorite team scores gaol/s. And enjoy the moment. Some would argue that goals just for the sake of goals are meaningless without attractive, entertaining attacking football. But goals goals are that wins you games. Below are the goals machines in the SPL.\n"
   ]
  },
  {
   "cell_type": "code",
   "execution_count": null,
   "metadata": {},
   "outputs": [],
   "source": [
    "fw21 = p21[p21['Pos'] == 'F']\n",
    "fw21.head(3)"
   ]
  },
  {
   "cell_type": "code",
   "execution_count": null,
   "metadata": {},
   "outputs": [],
   "source": [
    "top = 5\n",
    "fig = make_subplots(\n",
    "    rows=5, cols=2,\n",
    "    horizontal_spacing = 0.05, \n",
    "    vertical_spacing = 0.075, \n",
    "    subplot_titles=('Gls', 'Ast','G+A','SoT%','G/Sh','G/SoT','90s','+/-90', 'onG', 'onGA'),\n",
    "    )\n",
    "\n",
    "\n",
    "df = fw21.sort_values(by='Gls', ascending=False).head(top)\n",
    "fig.add_trace(go.Bar(x=df[\"Player\"], \n",
    "             y=df['Gls'],\n",
    "             #color='Club',\n",
    "             #hover_name=None,\n",
    "             orientation='v'),\n",
    "             row=1, col=1)\n",
    "\n",
    "df = fw21.sort_values(by='Ast', ascending=False).head(top)\n",
    "fig.add_trace(go.Bar( x=df[\"Player\"], \n",
    "             y=df['Ast'],\n",
    "             #color='Club',\n",
    "             #hover_name=None,\n",
    "             orientation='v'),\n",
    "             row=1, col=2)\n",
    "\n",
    "df = fw21.sort_values(by='G+A', ascending=False).head(top)\n",
    "fig.add_trace(go.Bar(x=df[\"Player\"], \n",
    "             y=df['G+A'],\n",
    "             #color='Club',\n",
    "             #hover_name=None,\n",
    "             orientation='v'),\n",
    "             row=2, col=1)  \n",
    "\n",
    "df = fw21.sort_values(by='SoT%', ascending=False).head(top)\n",
    "fig.add_trace(go.Bar( x=df[\"Player\"], \n",
    "             y=df['SoT%'],\n",
    "             #color='Club',\n",
    "             #hover_name=None,\n",
    "             orientation='v'),\n",
    "             row=2, col=2)\n",
    "\n",
    "df = fw21.sort_values(by='G/Sh', ascending=False).head(top)\n",
    "fig.add_trace(go.Bar(x=df[\"Player\"], \n",
    "             y=df['G/Sh'],\n",
    "             #color='Club',\n",
    "            #hover_name=None,\n",
    "             orientation='v'),\n",
    "             row=3, col=1)\n",
    "\n",
    "df = fw21.sort_values(by='G/SoT', ascending=False).head(top)\n",
    "fig.add_trace(go.Bar(x=df[\"Player\"], \n",
    "             y=df['G/SoT'],\n",
    "             #color='Club',\n",
    "             #hover_name=None,\n",
    "             orientation='v'),\n",
    "             row=3, col=2)\n",
    "\n",
    "df = fw21.sort_values(by='90s', ascending=False).head(top)\n",
    "fig.add_trace(go.Bar(x=df[\"Player\"], \n",
    "             y=df['90s'],\n",
    "             #color='Club',\n",
    "             #hover_name=None,\n",
    "             orientation='v'),\n",
    "             row=4,col=1)\n",
    "             \n",
    "df = fw21.sort_values(by='+/-90', ascending=False).head(top)\n",
    "fig.add_trace(go.Bar( x=df[\"Player\"], \n",
    "             y=df['+/-90'],\n",
    "             #color='Club',\n",
    "             #hover_name=None,\n",
    "             orientation='v'),\n",
    "             row=4,col=2)\n",
    "\n",
    "df = fw21.sort_values(by='onG', ascending=False).head(top)\n",
    "fig.add_trace(go.Bar( x=df[\"Player\"], \n",
    "             y=df['onG'],\n",
    "             #color='Club',\n",
    "             #hover_name=None,\n",
    "             orientation='v'),\n",
    "             row=5, col=1)\n",
    "\n",
    "df = fw21.sort_values(by='onGA', ascending=False).head(top)\n",
    "fig.add_trace(go.Bar( x=df[\"Player\"], \n",
    "             y=df['onGA'],\n",
    "             #color='Club',\n",
    "             #hover_name=None),\n",
    "             orientation='v'),\n",
    "             row=5, col=2)\n",
    "\n",
    "#fig.update_layout(title_text='Top Defender Qualities', title_x=0.5)\n",
    "fig.update_traces(marker_color= ['rgb(96, 96, 96)','rgb(210,202,82)','rgb(210,202,82)','rgb(210,202,82)',\n",
    "                                 'rgb(210,202,82)', 'rgb(210,202,82)'], marker_line_color='rgb(8,48,107)',\n",
    "                  marker_line_width=2.5, opacity=0.6)\n",
    "\n",
    "fig.update_layout(title_text='<b>Top Forward Qualities<b>', \n",
    "                  titlefont={'size':28},\n",
    "                  title_x=0.5,\n",
    "                  showlegend=False,\n",
    "                  autosize=False, \n",
    "                  width=1300, \n",
    "                  height=1500,\n",
    "                  template='ggplot2',\n",
    "                  paper_bgcolor='lightgray')\n",
    "fig.show()"
   ]
  },
  {
   "cell_type": "code",
   "execution_count": null,
   "metadata": {},
   "outputs": [],
   "source": [
    "fig = px.pie(fw21,\n",
    "             values='Gls',\n",
    "             names='Nation',\n",
    "             title='<b>Player of which country score the most goals? <b>',\n",
    "             width=550, height=550,\n",
    "             )\n",
    "fig.update_traces(textposition='inside',\n",
    "                  textinfo='percent+label',\n",
    "                  showlegend= False,\n",
    "                 )\n",
    "iplot(fig)"
   ]
  },
  {
   "cell_type": "markdown",
   "metadata": {},
   "source": [
    "## Other Statistics\n",
    "\n",
    "4.1 Goal distribution\n",
    "\n",
    "Summary:\n",
    "\n",
    "Forwards score more goals (obvious)\n",
    "Right-footed goals are dominant\n",
    "Defenders love to head\n",
    "The big hitters are Machester City, Liverpool and Tottenham\n",
    "The new boys (Leeds United have the fewest goals scored)\n",
    "Crystal Palace defenders have the best goal-scoring defenders"
   ]
  },
  {
   "cell_type": "code",
   "execution_count": null,
   "metadata": {},
   "outputs": [],
   "source": [
    "fig = go.Figure()\n",
    "\n",
    "fig.add_trace(go.Bar(\n",
    "    x=p18['Squad'],\n",
    "    y=p18['Gls.1'],\n",
    "    name='gools pc',\n",
    "    marker_color='indianred'\n",
    "))\n",
    "fig.add_trace(go.Bar(\n",
    "    x=p18['Squad'],\n",
    "    y=p18['Ast.1'],\n",
    "    name='Ast pc',\n",
    "   marker_color='lightsalmon'\n",
    "))\n",
    "\n",
    "fig.add_trace(go.Bar(\n",
    "    x=p18['Squad'],\n",
    "    y=p18['G+A'],\n",
    "    name='Gool & Ast pc',\n",
    "   marker_color='lightseagreen'\n",
    "))\n",
    "\n",
    "fig.update_layout(barmode='group',)# xaxis_tickangle=-45)\n",
    "fig.update_layout(title_text=\"<b>Goal distribution by club<b>\",\n",
    "                  titlefont={'size': 24, 'family': 'Courier'},\n",
    "                  width=900,\n",
    "                  height =500,\n",
    "                  template='plotly_dark'\n",
    "                 )\n",
    "\n",
    "iplot(fig)"
   ]
  },
  {
   "cell_type": "code",
   "execution_count": null,
   "metadata": {},
   "outputs": [],
   "source": [
    "fig = go.Figure()\n",
    "\n",
    "fig.add_trace(go.Bar(\n",
    "    x=p18['Squad'],\n",
    "    y=p18['CrdY'],\n",
    "    name='yellow cards',\n",
    "    marker_color='indianred'\n",
    "))\n",
    "fig.add_trace(go.Bar(\n",
    "    x=p18['Squad'],\n",
    "    y=p18['CrdR'],\n",
    "    name='red cards',\n",
    "   marker_color='lightsalmon'\n",
    "))\n",
    "\n",
    "fig.update_layout(barmode='group',)# xaxis_tickangle=-45)\n",
    "fig.update_layout(title_text=\"<b>Goal distribution by club<b>\",\n",
    "                  titlefont={'size': 24, 'family': 'Courier'},\n",
    "                  width=900,\n",
    "                  height =500,\n",
    "                  template='plotly_dark'\n",
    "                 )\n",
    "\n",
    "iplot(fig)"
   ]
  },
  {
   "cell_type": "markdown",
   "metadata": {},
   "source": [
    "***\n",
    "### 2.3- ***Save Data***\n",
    "***"
   ]
  },
  {
   "cell_type": "code",
   "execution_count": null,
   "metadata": {},
   "outputs": [],
   "source": [
    "top_teamsall = p18[(p18.Squad == 'Al-Hilal') | (p14.Squad == 'Al-Ittihad') | (p14.Squad == 'Al-Nassr') | (p14.Squad == 'Al-Shabab') | (p14.Squad == 'Al-Raed') | (p14.Squad == 'Al-Fateh') | (p14.Squad == 'Al-Taawoun') | (p14.Squad == 'Al-Faisaly') | (p14.Squad == 'Al-Ahli') | (p14.Squad == 'Al-Fayha')]\n"
   ]
  },
  {
   "cell_type": "code",
   "execution_count": null,
   "metadata": {},
   "outputs": [],
   "source": [
    "top_teamsall.to_csv('top_teemAll', index=False)"
   ]
  },
  {
   "cell_type": "markdown",
   "metadata": {},
   "source": [
    "# ***Diagnostic analysis***"
   ]
  },
  {
   "cell_type": "markdown",
   "metadata": {},
   "source": [
    "***\n",
    "### 3.1- ***Load Data***\n",
    "***"
   ]
  },
  {
   "cell_type": "code",
   "execution_count": null,
   "metadata": {},
   "outputs": [],
   "source": [
    "lt = pd.read_csv('new_league_tables')\n",
    "ps18 = pd.read_csv('period 18-21')\n",
    "ps14 = pd.read_csv('period 14-21')"
   ]
  },
  {
   "cell_type": "markdown",
   "metadata": {},
   "source": [
    "***\n",
    "### 3.2- ***Diagnostic analysis***\n",
    "***"
   ]
  },
  {
   "cell_type": "markdown",
   "metadata": {},
   "source": [
    "### ***The Pythagorean Expectation***"
   ]
  },
  {
   "cell_type": "markdown",
   "metadata": {},
   "source": [
    "The Pythagorean expectation is an idea devised by the famous baseball analyst, Bill James, but it can in fact be applied to any sport.\n",
    "\n",
    "to estimate the percentage of games a football team \"should\" have won \n",
    "\n",
    "The Pythagorean expectation can be described thus: in any season, the percentage of games won will be proportional to the square of total runs/points/goals scored by the team squared divided by the sum of total runs/points/goals scored by the team squared plus total runs/points/goals conceded by the team squared.\n",
    "- or wpc = TF2 / ( TF2 + TA2 )\n",
    "\n",
    "Where TF is runs/points/goals scored and TA is runs/points/goals conceded."
   ]
  },
  {
   "cell_type": "code",
   "execution_count": null,
   "metadata": {},
   "outputs": [],
   "source": [
    "cor = lt.iloc[:,([0,1,2,3,4,7,8,9,10,11,17,19,26,28])]\n",
    "cor['wpc'] = cor['W'] / cor['MP']\n",
    "cor['pyth'] = cor['GF']**2 / (cor['GF']**2 + cor['GA']**2)\n",
    "cor['diff'] = cor['wpc'] - cor['pyth']\n",
    "cor.shape"
   ]
  },
  {
   "cell_type": "code",
   "execution_count": null,
   "metadata": {},
   "outputs": [],
   "source": [
    "px.scatter(cor, \n",
    "           x='wpc', y= 'pyth',\n",
    "            size='pyth', size_max=10 ,\n",
    "             template='plotly_white',width=500,\n",
    "             color_discrete_map=all_colors,trendline='ols',\n",
    "             title=\"League Winner Attendance from 2014-2021\")"
   ]
  },
  {
   "cell_type": "code",
   "execution_count": null,
   "metadata": {},
   "outputs": [],
   "source": [
    "px.scatter(cor, \n",
    "           x='wpc', y= 'pyth',\n",
    "            size='pyth', size_max=8 ,\n",
    "             template='plotly_white',width=500,\n",
    "             color_discrete_map=all_colors,color= 'Squad',\n",
    "             title=\"League Winner Attendance from 2014-2021\")"
   ]
  },
  {
   "cell_type": "code",
   "execution_count": null,
   "metadata": {},
   "outputs": [],
   "source": [
    "import statsmodels.formula.api as smf\n",
    "pyth = smf.ols(formula = 'wpc ~ pyth', data= cor).fit()\n",
    "print(pyth.summary())"
   ]
  },
  {
   "cell_type": "markdown",
   "metadata": {},
   "source": [
    "- wpc = Intercept + coef x pyth\n",
    "\n",
    "You can see the value of Intercept is 0.0084 and coef is 0.7526 It's this latter value were interested in. It means that for every one unit increase in pyth, the value of wpc goes up by 0.857."
   ]
  },
  {
   "cell_type": "markdown",
   "metadata": {},
   "source": [
    "### ***best season***"
   ]
  },
  {
   "cell_type": "code",
   "execution_count": null,
   "metadata": {},
   "outputs": [],
   "source": [
    "remaining_teams = []\n",
    "for i in lt.Squad.unique():\n",
    "    if(lt[lt.Squad == i].shape[0]>7):\n",
    "        remaining_teams.append(i)\n",
    "\n",
    "top_teams = lt[lt.Squad.isin(remaining_teams)]\n",
    "\n",
    "\n",
    "print('Number of remaining teams is: ',len(remaining_teams),'\\n')\n",
    "print(remaining_teams)"
   ]
  },
  {
   "cell_type": "code",
   "execution_count": null,
   "metadata": {},
   "outputs": [],
   "source": [
    "top_teamsP = pd.read_csv('top_teemAll')\n",
    "p18 = pd.read_csv('p_period 18-21')\n",
    "\n",
    "p18 = p18.drop('index', axis=1)\n",
    "p18 = p18.drop(['90s.1','Gls.2','PK.1','PKatt.1','Born.1','MP.1','90s.2'], axis=1)\n",
    "\n",
    "lt18 = lt[lt['year'] >= 2018]\n",
    "\n",
    "top_teamsS = ps18[(ps18.Squad == 'Al-Hilal') | (ps18.Squad == 'Al-Ittihad') | (ps18.Squad == 'Al-Nassr') | (ps18.Squad == 'Al-Shabab') | (ps18.Squad == 'Al-Raed') | (ps18.Squad == 'Al-Fateh') | (ps18.Squad == 'Al-Taawoun') | (ps18.Squad == 'Al-Fayha')]\n",
    "top_teamsLt = lt18[(lt18.Squad == 'Al-Hilal') | (lt18.Squad == 'Al-Ittihad') | (lt18.Squad == 'Al-Nassr') | (lt18.Squad == 'Al-Shabab') | (lt18.Squad == 'Al-Raed') | (lt18.Squad == 'Al-Fateh') | (lt18.Squad == 'Al-Taawoun') | (ps18.Squad == 'Al-Fayha')]\n"
   ]
  },
  {
   "cell_type": "code",
   "execution_count": null,
   "metadata": {},
   "outputs": [],
   "source": [
    "corT = top_teams.iloc[:,([0,1,2,3,4,7,8,9,10,11,17,19,26,28])]\n",
    "corT['wpc'] = corT['W'] / corT['MP']\n",
    "corT['pyth'] = corT['GF']**2 / (corT['GF']**2 + corT['GA']**2)\n",
    "corT['diff'] = corT['wpc'] - corT['pyth']\n",
    "\n",
    "ps18['wpc'] = ps18['W'] / ps18['MP']\n",
    "ps18['pyth'] = ps18['Gls']**2 / (ps18['Gls']**2 + ps18['GA']**2)\n",
    "ps18['diff'] = ps18['wpc'] - ps18['pyth']\n",
    "\n",
    "cory = cor.groupby('year')['wpc','pyth','diff'].mean().reset_index()"
   ]
  },
  {
   "cell_type": "code",
   "execution_count": null,
   "metadata": {},
   "outputs": [],
   "source": [
    "cory.sort_values(by= 'diff',ascending=False)"
   ]
  },
  {
   "cell_type": "markdown",
   "metadata": {},
   "source": [
    "- قوة المنافسة على اللقب\n",
    "- كثرة الاندية المنافسة على اللقب\n",
    "- الحضور الجماهيري طوال الموسم\n",
    "- دخل المباريات\n",
    "- معذل تسجيل الاهداف\n",
    "- مستوى اللاعبين "
   ]
  },
  {
   "cell_type": "markdown",
   "metadata": {},
   "source": [
    "- قوة المنافسة على اللقب\n",
    "- كثرة الاندية المنافسة على اللقب\n",
    "\n",
    "summary :\n",
    "- في المنافسة الثنائية  كانت سنة 2017 & 2018 & 2021 اقوى سنين الدوري منافسة \n",
    "- في المنافسة الثلاثية كانت سنة 2020 & 2021 اقوى سنين الدوري منافسة \n",
    "- في المنافسة على الهبوط كانت سنة 2021 & 2020 اقوى السنوات منافسة على الهبوط\n",
    "- اقوى سنة منافسة كانت سنة 2021 لانها جمعت بين قوة المنافسة الثنائية والمنافسة الثلاثية وكذلك كانت اقوى سنة منافسة على الهبوط\n",
    "- اضعف سنة في المنافسة الثنائية كانت 2016 & 2019 & 2015  وفي المنافسة الثلاثية كانت سنة 2019\n",
    "- اضعف سنة في المنافسة على الهبوط كانت سنة 2019 & 2018"
   ]
  },
  {
   "cell_type": "code",
   "execution_count": null,
   "metadata": {},
   "outputs": [],
   "source": [
    "s = lt[(lt['Rk'] == 1) | (lt['Rk'] == 2)]\n",
    "s1 = lt[(lt['Rk'] == 1) | (lt['Rk'] == 2) | (lt['Rk'] == 3)]\n",
    "sp2 = s.groupby('year')['Pts'].std().reset_index().sort_values(by='Pts')\n",
    "print(sp2)\n",
    "print()\n",
    "sp3 = s1.groupby('year')['Pts'].std().reset_index().sort_values(by='Pts')\n",
    "print(sp3)"
   ]
  },
  {
   "cell_type": "code",
   "execution_count": null,
   "metadata": {},
   "outputs": [],
   "source": [
    "fig = px.scatter(sp2,\n",
    "          y= 'Pts', x= 'year', color= 'Pts',size='Pts',\n",
    "            title='Bilateral competition for the period 2014 - 2021',\n",
    "              hover_name= 'year',template='plotly_dark')\n",
    "fig.show()\n",
    "\n",
    "fig = px.scatter(sp3,\n",
    "          y= 'Pts', x= 'year', color= 'Pts',size='Pts',\n",
    "            title='Triple competition for the period 2014 - 2021',\n",
    "              hover_name= 'year',template='plotly_dark')\n",
    "fig.show()"
   ]
  },
  {
   "cell_type": "code",
   "execution_count": null,
   "metadata": {},
   "outputs": [],
   "source": [
    "w = lt18[(lt18['Rk'] >= 11) & (lt18['Rk'] < 16)]\n",
    "ws = w.groupby('year')['Pts'].std().reset_index().sort_values(by='Pts')\n",
    "\n",
    "px.scatter(ws,\n",
    "          y= 'Pts', x= 'year', color= 'Pts',size='Pts',\n",
    "            title='Competition for relegation for the period 2018 - 2021',\n",
    "              hover_name= 'year',template='plotly_dark')"
   ]
  },
  {
   "cell_type": "markdown",
   "metadata": {},
   "source": [
    "- الحضور الجماهيري طوال الموسم\n",
    "- دخل المباريات\n",
    "\n",
    "summary :\n",
    "- اعلى السنوات معدل حضور كانت 2014 & 2018 & 2021\n",
    "- اعلى سنة دخل مباريات من الحضور الجماهيري كانت 2021 لارتفاع سعر التذاكر عن السنين السابقة\n",
    "\n",
    "Extra info :\n",
    "\n",
    "كشفت الأرقام الخاصة بمباريات الدوري السعودي لكرة القدم أن الجماهير دفعت أكثر من 83 مليون ريال، لحضور مباريات الموسم الحالي الذي انتهى بتتويج الهلال باللقب.\n",
    "\n",
    "واختلفت أسعار التذاكر حسب رغبة الأندية المستضيفة، حيث لم تقل عن 35 ريالًا، ووصلت إلى 350 ريالًا للدرجات المختلفة، واحتلت الدرجة الثانية نسبة 90% من مساحة المدرجات في الملاعب، حيث لم يتجاوز سعر تذكرتها 40 ريالًا."
   ]
  },
  {
   "cell_type": "code",
   "execution_count": null,
   "metadata": {},
   "outputs": [],
   "source": [
    "sum_att = pd.DataFrame(lt.groupby('year')['Attendance'].sum()).reset_index()\n",
    "\n",
    "px.scatter(data_frame= sum_att,\n",
    "              x='year', y='Attendance',\n",
    "                 size= 'Attendance', color='Attendance',template='plotly_dark',\n",
    "                          title='Highest attendance rate for the period 2014-2021')"
   ]
  },
  {
   "cell_type": "markdown",
   "metadata": {},
   "source": [
    "- معذل تسجيل الاهداف\n",
    "\n",
    "summary :\n",
    "- اعلى معدل تسجيل اهداف كانت في سنة 2020 \n",
    "- اقل سنة معدل تسجيل اهداف كانت في سنة 2021"
   ]
  },
  {
   "cell_type": "code",
   "execution_count": null,
   "metadata": {},
   "outputs": [],
   "source": [
    "g = lt.groupby('year')['GF'].mean().reset_index().sort_values(by= 'GF', ascending=False)\n",
    "print(g)\n",
    "fig = px.scatter(data_frame= g,\n",
    "              x='year', y='GF',\n",
    "                 size= 'GF', color='GF',template='plotly_dark',\n",
    "                          title='Highest attendance rate for the period 2014-2021')\n",
    "fig.show()\n",
    "\n",
    "fig = px.scatter(lt, \n",
    "           x='year', y= 'GF',\n",
    "            size='GF', color='Squad', size_max=15 ,\n",
    "             template='plotly_dark',color_discrete_map=all_colors,\n",
    "             title=\"League Winner GF from 2014-2021\")\n",
    "fig.show()"
   ]
  },
  {
   "cell_type": "markdown",
   "metadata": {},
   "source": [
    "- مستوى اللاعبين "
   ]
  },
  {
   "cell_type": "code",
   "execution_count": null,
   "metadata": {},
   "outputs": [],
   "source": [
    "ps18.groupby('year')[[ 'Gls','Ast','Gls-90', 'Ast-90', 'G+A',\n",
    "       'SoT%', 'Sh/90', 'SoT/90', 'G/Sh',\n",
    "       'G/SoT', 'Crs', 'Int', 'TklW','GA', 'GA90', 'SoTA', 'CS', 'CS%']].mean()"
   ]
  },
  {
   "cell_type": "markdown",
   "metadata": {},
   "source": [
    "### ***winners & contenders***"
   ]
  },
  {
   "cell_type": "code",
   "execution_count": null,
   "metadata": {},
   "outputs": [],
   "source": [
    "G21 = top_teamsP[(top_teamsP['Pos'] == 'G') & (top_teamsP['year'] == 2021)][['Player', 'Nation', 'Pos', 'Squad', 'Age', 'Born', 'MP', 'Starts','Min','Mn/MP', 'Min%','90s','year']]\n",
    "D21 = top_teamsP[(top_teamsP['Pos'] == 'D') & (top_teamsP['year'] == 2021)][['Player', 'Nation', 'Pos', 'Squad', 'Age', 'Born', 'MP', 'Starts','Min','Mn/MP', 'Min%','90s', 'Gls', 'Ast','CrdY', 'CrdR','Gls.1', 'Ast.1', 'G+A','Sh', 'SoT', 'SoT%','Sh/90', 'SoT/90', 'G/Sh', 'G/SoT','PPM','onG', 'onGA', '+/-', '+/-90','On-Off', 'Fls', 'Fld', 'Off', 'Crs','Int', 'TklW', 'OG', 'year']]\n",
    "M21 = top_teamsP[(top_teamsP['Pos'] == 'M') & (top_teamsP['year'] == 2021)][['Player', 'Nation', 'Pos', 'Squad', 'Age', 'Born', 'MP', 'Starts','Min','Mn/MP', 'Min%','90s', 'Gls', 'Ast','CrdY', 'CrdR','Gls.1', 'Ast.1', 'G+A','Sh', 'SoT', 'SoT%','Sh/90', 'SoT/90', 'G/Sh', 'G/SoT','PPM','onG', 'onGA', '+/-', '+/-90','On-Off', 'Fls', 'Fld', 'Off', 'Crs','Int', 'TklW', 'OG', 'year']]\n",
    "F21 = top_teamsP[(top_teamsP['Pos'] == 'F') & (top_teamsP['year'] == 2021)][['Player', 'Nation', 'Pos', 'Squad', 'Age', 'Born', 'MP', 'Starts','Min','Mn/MP', 'Min%','90s', 'Gls', 'Ast','Gls.1', 'Ast.1', 'G+A','Sh', 'SoT', 'SoT%','Sh/90', 'SoT/90', 'G/Sh', 'G/SoT','PPM','onG', 'onGA', '+/-', '+/-90','On-Off', 'year']]\n",
    "\n",
    "print('the number of G players is: ',G21.shape[0])\n",
    "print('the number of D players is: ',D21.shape[0])\n",
    "print('the number of M players is: ',M21.shape[0])\n",
    "print('the number of F players is: ',F21.shape[0])"
   ]
  },
  {
   "cell_type": "code",
   "execution_count": null,
   "metadata": {},
   "outputs": [],
   "source": [
    "G = p18[(p18['Pos'] == 'G') & (p18['year'] == 2021)][['Player', 'Nation', 'Pos', 'Squad', 'Age', 'Born', 'MP', 'Starts','Min','Mn/MP', 'Min%','90s','year']]\n",
    "D = p18[(p18['Pos'] == 'D') & (p18['year'] == 2021)][['Player', 'Nation', 'Pos', 'Squad', 'Age', 'Born', 'MP', 'Starts','Min','Mn/MP', 'Min%','90s', 'Gls', 'Ast','CrdY', 'CrdR','Gls.1', 'Ast.1', 'G+A','Sh', 'SoT', 'SoT%','Sh/90', 'SoT/90', 'G/Sh', 'G/SoT','PPM','onG', 'onGA', '+/-', '+/-90','On-Off', 'Fls', 'Fld', 'Off', 'Crs','Int', 'TklW', 'OG', 'year']]\n",
    "M = p18[(p18['Pos'] == 'M') & (p18['year'] == 2021)][['Player', 'Nation', 'Pos', 'Squad', 'Age', 'Born', 'MP', 'Starts','Min','Mn/MP', 'Min%','90s', 'Gls', 'Ast','CrdY', 'CrdR','Gls.1', 'Ast.1', 'G+A','Sh', 'SoT', 'SoT%','Sh/90', 'SoT/90', 'G/Sh', 'G/SoT','PPM','onG', 'onGA', '+/-', '+/-90','On-Off', 'Fls', 'Fld', 'Off', 'Crs','Int', 'TklW', 'OG', 'year']]\n",
    "F = p18[(p18['Pos'] == 'F') & (p18['year'] == 2021)][['Player', 'Nation', 'Pos', 'Squad', 'Age', 'Born', 'MP', 'Starts','Min','Mn/MP', 'Min%','90s', 'Gls', 'Ast','Gls.1', 'Ast.1', 'G+A','Sh', 'SoT', 'SoT%','Sh/90', 'SoT/90', 'G/Sh', 'G/SoT','PPM','onG', 'onGA', '+/-', '+/-90','On-Off', 'year']]\n",
    "\n",
    "print('the number of G players is: ',G.shape[0])\n",
    "print('the number of D players is: ',D.shape[0])\n",
    "print('the number of M players is: ',M.shape[0])\n",
    "print('the number of F players is: ',F.shape[0])"
   ]
  },
  {
   "cell_type": "code",
   "execution_count": null,
   "metadata": {},
   "outputs": [],
   "source": [
    "frt = pd.read_csv('Scores & Fixtures.txt')\n",
    "frt = frt.drop(['Comp','Notes','Referee'],axis=1)\n",
    "frt['Attendance'] = frt['Attendance'].fillna(frt['Attendance'].mean())\n",
    "frt['Poss'] = frt['Poss'].fillna(frt['Poss'].mean())\n",
    "F = frt[frt['team'] == 'Al-Faisaly']\n",
    "R = frt[frt['team'] == 'Al-Raed']\n",
    "T = frt[frt['team'] == 'Al-Taawoun']"
   ]
  },
  {
   "cell_type": "markdown",
   "metadata": {},
   "source": [
    "==================================================="
   ]
  },
  {
   "cell_type": "code",
   "execution_count": null,
   "metadata": {},
   "outputs": [],
   "source": [
    "corT.groupby('Squad')['wpc','pyth','diff'].mean().reset_index().sort_values(by='pyth',ascending=False)"
   ]
  },
  {
   "cell_type": "code",
   "execution_count": null,
   "metadata": {},
   "outputs": [],
   "source": [
    "corT.groupby('Squad')['wpc','pyth','diff'].mean().reset_index().sort_values(by='diff',ascending=False)"
   ]
  },
  {
   "cell_type": "code",
   "execution_count": null,
   "metadata": {},
   "outputs": [],
   "source": [
    "corT.groupby('Squad')['wpc','pyth','diff'].mean().reset_index().sort_values(by='wpc',ascending=False)"
   ]
  },
  {
   "cell_type": "code",
   "execution_count": null,
   "metadata": {},
   "outputs": [],
   "source": [
    "winners = corT[(corT['Rk'] == 1) | (corT['Rk'] == 2)].sort_values(by='diff',ascending=False)\n",
    "\n",
    "print(pd.DataFrame(winners[['wpc','pyth','diff']].describe()))\n",
    "\n",
    "\n",
    "yer = winners['year'].astype(str)\n",
    "t = yer.apply(lambda x: str(x[2:]))\n",
    "rk = winners['Rk'].astype(str)\n",
    "winners['team'] = winners['Squad']+t+'-'+rk\n",
    "\n",
    "\n",
    "print()\n",
    "print('winners shape is: ',winners.shape)\n",
    "winners.sort_values(by='wpc',ascending=False)"
   ]
  },
  {
   "cell_type": "code",
   "execution_count": null,
   "metadata": {},
   "outputs": [],
   "source": [
    "a = 835052 / 168385\n",
    "b = 820491 / 153824\n",
    "print(a)\n",
    "print(b)\n",
    "print('علو نسبة فيثاقورس اثر في تحقيق الدوري',a-b)\n",
    "print()\n",
    "c = 806793 / 191409\n",
    "d = 837383 / 221998\n",
    "print(d)\n",
    "print(c)\n",
    "print('علو الفارق اثر في تحقيق الدوري',c - d)"
   ]
  },
  {
   "cell_type": "code",
   "execution_count": null,
   "metadata": {},
   "outputs": [],
   "source": [
    "from sklearn.preprocessing import StandardScaler\n",
    "#----------------------------------------------------\n",
    "\n",
    "#Standard Scaler for Data\n",
    "\n",
    "diff = winners['diff']\n",
    "diff = pd.DataFrame(diff)\n",
    "pyth = winners['pyth']\n",
    "pyth = pd.DataFrame(pyth)\n",
    "\n",
    "scaler = StandardScaler(copy=True, with_mean=True, with_std=True)\n",
    "X = scaler.fit_transform(diff)\n",
    "y = scaler.fit_transform(pyth)\n",
    "winners['diff1'] = X\n",
    "winners['pyth1'] = y\n",
    "\n",
    "winners['difff'] = winners['diff1'] / winners['pyth1']\n",
    "winners[(winners.year == 2017) | (winners.year == 2021)]"
   ]
  },
  {
   "cell_type": "markdown",
   "metadata": {},
   "source": [
    "- الاصل الاعلى في نسبة الفوز هو من يحقق الدوري مع عدم الاغفال عن امكانية تحقيق الدوري من الاقل لكن من النادر\n",
    "- 2017 - 2021 يوجد تعادل في نسبة الفوز بين الاول والثاني\n",
    "- في حال التعادل في نسبة الفوز يكون المؤثر الاعلى في الفوز <تستطيع القول انه للحظ> لكن نظريا يكون لنقص الفارق ثم لارتفاع نسبة فيثاقورس\n",
    "- لتحقيق او المنافسة على الدوري يجب التركيز على رفع نسبة فيثاقورس وتقليل الفارق قدر الامكان وبالتالي ينتج لدينا تلقائيا ارتفاع في نسبة الفوز\n",
    "- الفارق ونسبة فيثاغورس النجاح في احدهما دون الاخر الاصل انه لا يغني في تحقيق الدوري <الهلال - الاهلي - الشباب>\n",
    "- تقليل الفجوة بين نسبة فيثاغورس ونسبة الفوز ارقتقائا لنسبة الفيثاغورس كفيلة بتحقيق الدوري"
   ]
  },
  {
   "cell_type": "code",
   "execution_count": null,
   "metadata": {},
   "outputs": [],
   "source": [
    "fig = px.scatter(data_frame=winners.sort_values(by='wpc'),\n",
    "            x='team', y='wpc', size='wpc',color='Rk',\n",
    "             template='plotly_dark',\n",
    "               title='win pc')\n",
    "fig.show()\n",
    "\n",
    "fig = px.scatter(data_frame=winners.sort_values(by='pyth'),\n",
    "            x='team', y='pyth', size='pyth',color='Rk',\n",
    "             template='plotly_dark',\n",
    "               title='pyth Ex')\n",
    "fig.show()\n",
    "\n",
    "fig = px.scatter(data_frame=winners.sort_values(by= 'diff'),\n",
    "                 x='team', y='diff',color='Rk',\n",
    "                    template='plotly_dark',\n",
    "                      title='diff')\n",
    "fig.show()\n"
   ]
  },
  {
   "cell_type": "markdown",
   "metadata": {},
   "source": [
    "### ***Top teams***"
   ]
  },
  {
   "cell_type": "code",
   "execution_count": null,
   "metadata": {},
   "outputs": [],
   "source": [
    "print(\n",
    "    'Top teams are:\\n', top_teamsP.Squad.unique()\n",
    ")\n"
   ]
  },
  {
   "cell_type": "code",
   "execution_count": null,
   "metadata": {},
   "outputs": [],
   "source": [
    "notTopteam = p18[~p18.Squad.isin(['Al-Fayha', 'Al-Faisaly', 'Al-Hilal', 'Al-Ittihad', 'Al-Nassr',\n",
    "       'Al-Shabab', 'Al-Taawoun', 'Al-Ahli', 'Al-Fateh', 'Al-Raed'])]\n",
    "\n",
    "print(\n",
    "       'not Top teams are:\\n', notTopteam.Squad.unique()\n",
    ")\n"
   ]
  },
  {
   "cell_type": "code",
   "execution_count": null,
   "metadata": {},
   "outputs": [],
   "source": [
    "p18[p18.year == 2021].groupby('Squad')['+/-'].mean()"
   ]
  },
  {
   "cell_type": "code",
   "execution_count": null,
   "metadata": {},
   "outputs": [],
   "source": [
    "fig = px.imshow(cor.corr(), template='seaborn', aspect='auto')\n",
    "fig.show()"
   ]
  },
  {
   "cell_type": "markdown",
   "metadata": {},
   "source": [
    "___\n",
    "***AlShabab***\n",
    "___"
   ]
  },
  {
   "cell_type": "code",
   "execution_count": null,
   "metadata": {},
   "outputs": [],
   "source": [
    "AlShabablt = top_teamsLt[top_teamsLt['Squad'] == 'Al-Shabab']\n",
    "AlShababst = top_teamsS[top_teamsS['Squad'] == 'Al-Shabab']\n",
    "AlShababp = top_teamsP[top_teamsP['Squad'] == 'Al-Shabab']\n",
    "\n",
    "AlShababp211 = AlShababp[AlShababp['year'] == 2021]\n",
    "AlShababp21 = AlShababp[(AlShababp['year'] == 2021) | (AlShababp['year'] == 2020)]"
   ]
  },
  {
   "cell_type": "code",
   "execution_count": null,
   "metadata": {},
   "outputs": [],
   "source": [
    "d = cor[cor['Squad'] == 'Al-Shabab']\n",
    "d[['year','Squad','wpc','pyth','diff']]"
   ]
  },
  {
   "cell_type": "markdown",
   "metadata": {},
   "source": [
    "- ***Alshabab last two years***"
   ]
  },
  {
   "cell_type": "code",
   "execution_count": null,
   "metadata": {},
   "outputs": [],
   "source": [
    "g = AlShababst.head(2)\n",
    "f = AlShababst.iloc[0,1:] - AlShababst.iloc[1,1:]\n",
    "f = pd.DataFrame(f).T.reset_index()\n",
    "v = pd.DataFrame(AlShababst.iloc[:,0]).head(2).reset_index()\n",
    "v = pd.concat([v,f],axis=1)\n",
    "v = v.iloc[0,:]\n",
    "v = pd.DataFrame(v).T\n",
    "v = v.drop('index',axis=1)\n",
    "v = pd.concat([g,v],axis=0)\n",
    "v"
   ]
  },
  {
   "cell_type": "code",
   "execution_count": null,
   "metadata": {},
   "outputs": [],
   "source": [
    "AlShababp.groupby('year').mean().sort_values(by='Gls',ascending=False)"
   ]
  },
  {
   "cell_type": "markdown",
   "metadata": {},
   "source": [
    "(Robin Quaison - Al-Ettifaq)(Knowledge Musona - Al-Ta'ee)"
   ]
  },
  {
   "cell_type": "markdown",
   "metadata": {},
   "source": [
    "تطور دفاعي ملحوظ لسنة 2021 \n",
    "\n",
    "cs - sota - ga90 - tklw - fls\n",
    "\n",
    "poss - G+A - shoot - Subs - +/- - "
   ]
  },
  {
   "cell_type": "code",
   "execution_count": null,
   "metadata": {},
   "outputs": [],
   "source": [
    "print('Diff Ast 17   D-M')\n",
    "print()\n",
    "print('Diff Gls 20   M-D')\n",
    "AlShababp21.groupby(['Pos','year'])[['Gls','Ast']].sum()"
   ]
  },
  {
   "cell_type": "code",
   "execution_count": null,
   "metadata": {},
   "outputs": [],
   "source": [
    "notTopteam[notTopteam.year == 2021].sort_values(by=['Ast','+/-'],ascending=False).head(15)"
   ]
  },
  {
   "cell_type": "markdown",
   "metadata": {},
   "source": [
    "- الشباب في 2022"
   ]
  },
  {
   "cell_type": "code",
   "execution_count": null,
   "metadata": {},
   "outputs": [],
   "source": [
    "# AlShababp21.tail(28)\n",
    "n = AlShababp21.head(37)\n",
    "n = n[~n['Player'].isin(['Jamal Bajandouh','Odion Ighalo','John Mary','Paulinho','Abdullah AlShamekh','Luciano Vietto','Ahmed Sharahili'])]\n",
    "\n",
    "j = pd.read_csv('new_p.csv',error_bad_lines=False)\n",
    "AlShababp22 = pd.concat([n,j],axis=0)\n",
    "\n",
    "print(AlShababp22.iloc[:,0:8].head(3),'\\n',AlShababp22.shape)\n",
    "AlShababp22.head(3)"
   ]
  },
  {
   "cell_type": "code",
   "execution_count": null,
   "metadata": {},
   "outputs": [],
   "source": [
    "AlShababp22[AlShababp22['Pos'] == 'M'].sort_values(by='G+A', ascending=False).head(3)"
   ]
  },
  {
   "cell_type": "code",
   "execution_count": null,
   "metadata": {},
   "outputs": [],
   "source": [
    "print(AlShababp211['+/-'].mean())\n",
    "print(AlShababp22['+/-'].mean())"
   ]
  },
  {
   "cell_type": "markdown",
   "metadata": {},
   "source": [
    "***\n",
    "***Al-raed & Al-Taawoun & Al-Faisaly***\n",
    "***"
   ]
  },
  {
   "cell_type": "code",
   "execution_count": null,
   "metadata": {},
   "outputs": [],
   "source": [
    "alraedp21 = top_teamsP[(top_teamsP['year'] ==2021) & (top_teamsP['Squad'] == 'Al-Raed')]\n",
    "AlTaawounp21 = top_teamsP[(top_teamsP['year'] ==2021) & (top_teamsP['Squad'] == 'Al-Taawoun')]\n",
    "alfaisalyp21 = top_teamsP[(top_teamsP['year'] ==2021) & (top_teamsP['Squad'] == 'Al-Faisaly')]\n",
    "\n",
    "top_teamsP21 = top_teamsP[top_teamsP['year'] == 2021]"
   ]
  },
  {
   "cell_type": "code",
   "execution_count": null,
   "metadata": {},
   "outputs": [],
   "source": [
    "print('the mean of poss is: \\n',frt.groupby('team')['Poss'].mean())\n",
    "print()\n",
    "print('the mean of attendance is: \\n',frt.groupby('team')['Attendance'].mean())\n",
    "print()\n",
    "print('the sum of GF is: \\n',frt.groupby('team')['GF'].sum())\n",
    "print()\n",
    "print('the sum of GA is: \\n',frt.groupby('team')['GA'].sum())\n",
    "frt.head(2)"
   ]
  },
  {
   "cell_type": "code",
   "execution_count": null,
   "metadata": {},
   "outputs": [],
   "source": [
    "print('the mean of top teams is: ',top_teamsP21['+/-'].mean())\n",
    "print('the mean of all teams is: ',pd.DataFrame(p18[p18['year'] == 2021])['+/-'].mean())\n",
    "\n",
    "print()\n",
    "print('alfaisaly',alfaisalyp21['+/-'].mean())\n",
    "print('Al-Taawoun',AlTaawounp21['+/-'].mean())\n",
    "print('alraed',alraedp21['+/-'].mean())\n",
    "\n",
    "print()\n",
    "print(pd.DataFrame(p18[p18['year'] == 2021].groupby('Squad')['+/-'].mean()).sort_values(by='+/-',ascending=False))"
   ]
  },
  {
   "cell_type": "code",
   "execution_count": null,
   "metadata": {},
   "outputs": [],
   "source": [
    "frtst = ps18[(ps18['Squad'] == 'Al-Raed') | (ps18['Squad'] == 'Al-Faisaly') | (ps18['Squad'] == 'Al-Taawoun')]\n",
    "\n",
    "print(ps18[ps18['year'] == 2021][['Squad','wpc','pyth','diff']].mean())\n",
    "frtst[frtst['year'] == 2021][['Squad','wpc','pyth','diff']]\n"
   ]
  },
  {
   "cell_type": "code",
   "execution_count": null,
   "metadata": {},
   "outputs": [],
   "source": [
    "frtst[frtst['year'] == 2021]"
   ]
  },
  {
   "cell_type": "markdown",
   "metadata": {},
   "source": [
    "___\n",
    "#### ***Al Raed***"
   ]
  },
  {
   "cell_type": "code",
   "execution_count": null,
   "metadata": {},
   "outputs": [],
   "source": [
    "AlRaedlt = top_teamsLt[top_teamsLt['Squad'] == 'Al-Raed']\n",
    "AlRaedst = top_teamsS[top_teamsS['Squad'] == 'Al-Raed']\n",
    "AlRaedp = top_teamsP[top_teamsP['Squad'] == 'Al-Raed']"
   ]
  },
  {
   "cell_type": "code",
   "execution_count": null,
   "metadata": {},
   "outputs": [],
   "source": [
    "print('Most used tactics by the team :\\n',R.Formation.value_counts())\n",
    "print('Possession by the team :\\n',R.Poss.describe())\n",
    "print('Attendance: \\n',R[R.Venue == 'Home']['Attendance'].describe())\n",
    "print(' Home Win: ',len(R[(R.Venue == 'Home') & (R.Result == 'W')]),'\\n','Home L or D:',len(R[(R.Venue == 'Home') & (R.Result == 'L' ) | (R.Result == 'D')]))\n",
    "print(' Away Win: ',len(R[(R.Venue == 'Away') & (R.Result == 'W')]),'\\n','Away L or D:',len(R[(R.Venue == 'Away') & (R.Result == 'L' ) | (R.Result == 'D')]))\n",
    "R.sample(5)"
   ]
  },
  {
   "cell_type": "code",
   "execution_count": null,
   "metadata": {},
   "outputs": [],
   "source": [
    "print(' the mean of top teams is:  2.667682926829268 \\n',\n",
    "      'the mean of all teams is:  0.04844961240310078')\n",
    "print('Al-Raed     -3.892857')\n",
    "alraedp21.sort_values(by='+/-', ascending=False).head(10)[['Player','Min','Pos','+/-','+/-90']]"
   ]
  },
  {
   "cell_type": "code",
   "execution_count": null,
   "metadata": {},
   "outputs": [],
   "source": [
    "alraedp21"
   ]
  },
  {
   "cell_type": "markdown",
   "metadata": {},
   "source": [
    "# ***Predictive analysis***"
   ]
  },
  {
   "cell_type": "code",
   "execution_count": null,
   "metadata": {},
   "outputs": [],
   "source": [
    "from sklearn.linear_model import LinearRegression\n",
    "\n",
    "X = cor[['wpc','pyth']]\n",
    "y = cor['Rk']\n",
    "model = LinearRegression(normalize=True)\n",
    "model.fit(X,y)\n",
    "\n",
    "plt.figure(figsize=(6,4))\n",
    "sns.regplot(data=cor ,x='pyth' , y='wpc' )\n"
   ]
  },
  {
   "cell_type": "code",
   "execution_count": null,
   "metadata": {},
   "outputs": [],
   "source": [
    "print(model.score(X,y))\n",
    "model.predict([[0.65,0.71]])"
   ]
  },
  {
   "cell_type": "markdown",
   "metadata": {},
   "source": [
    "==========================================="
   ]
  },
  {
   "cell_type": "code",
   "execution_count": null,
   "metadata": {},
   "outputs": [],
   "source": [
    "i = float(input('enter the wpc: '))\n",
    "u = float(input('enter the pyth Ex: '))\n",
    "if i < u:\n",
    "    print('the diff is: ',i - u)\n",
    "else:\n",
    "    print('the wpc cannot be highest then pyth')"
   ]
  },
  {
   "cell_type": "code",
   "execution_count": null,
   "metadata": {},
   "outputs": [],
   "source": [
    "i = float(input('enter the GF: '))\n",
    "u = float(input('enter the pyth GA: '))\n",
    "print('the pyth Ex is: ', i**2 / (i**2 + u**2))"
   ]
  },
  {
   "cell_type": "code",
   "execution_count": null,
   "metadata": {},
   "outputs": [],
   "source": [
    "i = float(input('enter the win: '))\n",
    "u = float(input('enter the MP: '))\n",
    "print('the wpc is: ', i / u)"
   ]
  },
  {
   "cell_type": "markdown",
   "metadata": {},
   "source": [
    "====================================================="
   ]
  },
  {
   "cell_type": "code",
   "execution_count": null,
   "metadata": {},
   "outputs": [],
   "source": [
    "frt1 = frt.copy()\n",
    "print(frt1.shape)\n",
    "frt1.head()"
   ]
  },
  {
   "cell_type": "code",
   "execution_count": null,
   "metadata": {},
   "outputs": [],
   "source": [
    "frt1['Date'] = pd.to_datetime(frt1['Date'])\n",
    "frt1['venue_code'] = frt1['Venue'].astype('category').cat.codes\n",
    "frt1['opp_code'] = frt1['Opponent'].astype('category').cat.codes\n",
    "frt1['hour'] = frt1['Time'].astype('category').str.replace(\":.+\",'',regex=True).astype('int')\n",
    "frt1['target'] = (frt1['Result'] == 'W').astype('int')\n",
    "frt1['Day_code'] = frt1['Day'].astype('category').cat.codes"
   ]
  },
  {
   "cell_type": "code",
   "execution_count": null,
   "metadata": {},
   "outputs": [],
   "source": [
    "frt1.head(3)"
   ]
  },
  {
   "cell_type": "code",
   "execution_count": null,
   "metadata": {},
   "outputs": [],
   "source": [
    "from sklearn.ensemble import RandomForestClassifier\n",
    "rf = RandomForestClassifier(n_estimators=50, min_samples_split=10, random_state=1)"
   ]
  },
  {
   "cell_type": "code",
   "execution_count": null,
   "metadata": {},
   "outputs": [],
   "source": [
    "train = frt1[frt1['Date'] < '2022-01-01']\n",
    "test = frt1[frt1['Date'] > '2022-03-01']\n",
    "predictors = ['venue_code', 'opp_code', 'hour','Day_code']"
   ]
  },
  {
   "cell_type": "code",
   "execution_count": null,
   "metadata": {},
   "outputs": [],
   "source": [
    "rf.fit(train[predictors], train.target)\n",
    "preds = rf.predict(test[predictors])"
   ]
  },
  {
   "cell_type": "code",
   "execution_count": null,
   "metadata": {},
   "outputs": [],
   "source": [
    "from sklearn.metrics import accuracy_score\n",
    "acc = accuracy_score(test.target, preds)\n",
    "acc"
   ]
  },
  {
   "cell_type": "code",
   "execution_count": null,
   "metadata": {},
   "outputs": [],
   "source": [
    "from sklearn.linear_model import LinearRegression\n",
    "\n",
    "X = cor[['wpc','pyth']]\n",
    "y = cor['Rk']\n",
    "model = LinearRegression(normalize=True)\n",
    "model.fit(X,y)\n",
    "\n",
    "plt.figure(figsize=(6,4))\n",
    "sns.regplot(data=cor ,x='pyth' , y='wpc' )\n"
   ]
  },
  {
   "cell_type": "code",
   "execution_count": null,
   "metadata": {},
   "outputs": [],
   "source": [
    "print(model.score(X,y))\n",
    "model.predict([[0.65,0.71]])"
   ]
  },
  {
   "cell_type": "markdown",
   "metadata": {},
   "source": [
    "# ***Prescriptive analytics***"
   ]
  },
  {
   "cell_type": "code",
   "execution_count": null,
   "metadata": {},
   "outputs": [],
   "source": [
    "print('Goalkeepers are: \\n',G.sort_values(by='+/-',ascending=False).iloc[:,0:8].head(3))\n",
    "print('Defenders are: \\n',D.sort_values(by='+/-',ascending=False).iloc[:,0:8].head(3))\n",
    "print('Midfielders are: \\n',M.sort_values(by='+/-',ascending=False).iloc[:,0:8].head(3))\n",
    "print('Forwards are: \\n',F.sort_values(by='+/-',ascending=False).iloc[:,0:8].head(3))"
   ]
  },
  {
   "cell_type": "code",
   "execution_count": null,
   "metadata": {},
   "outputs": [],
   "source": [
    "M.sort_values(by='G+A', ascending=False).head(3)"
   ]
  }
 ],
 "metadata": {
  "kernelspec": {
   "display_name": "Python 3 (ipykernel)",
   "language": "python",
   "name": "python3"
  },
  "language_info": {
   "codemirror_mode": {
    "name": "ipython",
    "version": 3
   },
   "file_extension": ".py",
   "mimetype": "text/x-python",
   "name": "python",
   "nbconvert_exporter": "python",
   "pygments_lexer": "ipython3",
   "version": "3.9.12"
  },
  "vscode": {
   "interpreter": {
    "hash": "c104510c646bf96f18b996e66941a6bd207ecb29f3b2c132ad3b1812f0285828"
   }
  }
 },
 "nbformat": 4,
 "nbformat_minor": 2
}
